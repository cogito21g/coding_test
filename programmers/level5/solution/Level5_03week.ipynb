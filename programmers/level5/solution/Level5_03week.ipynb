{
 "cells": [
  {
   "cell_type": "markdown",
   "id": "a34ea5c4",
   "metadata": {},
   "source": [
    "[중요한 도로](https://school.programmers.co.kr/learn/courses/30/lessons/214293)"
   ]
  },
  {
   "cell_type": "code",
   "execution_count": null,
   "id": "1bb5eede",
   "metadata": {},
   "outputs": [],
   "source": []
  },
  {
   "cell_type": "code",
   "execution_count": null,
   "id": "01bad3d9",
   "metadata": {},
   "outputs": [],
   "source": []
  }
 ],
 "metadata": {
  "kernelspec": {
   "display_name": "Python 3 (ipykernel)",
   "language": "python",
   "name": "python3"
  },
  "language_info": {
   "codemirror_mode": {
    "name": "ipython",
    "version": 3
   },
   "file_extension": ".py",
   "mimetype": "text/x-python",
   "name": "python",
   "nbconvert_exporter": "python",
   "pygments_lexer": "ipython3",
   "version": "3.9.17"
  }
 },
 "nbformat": 4,
 "nbformat_minor": 5
}
