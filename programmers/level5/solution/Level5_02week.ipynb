{
 "cells": [
  {
   "cell_type": "markdown",
   "id": "08c2110f",
   "metadata": {},
   "source": [
    "[빠른 이동](https://school.programmers.co.kr/learn/courses/30/lessons/214294)"
   ]
  },
  {
   "cell_type": "code",
   "execution_count": null,
   "id": "ed929197",
   "metadata": {},
   "outputs": [],
   "source": []
  },
  {
   "cell_type": "code",
   "execution_count": null,
   "id": "5d560554",
   "metadata": {},
   "outputs": [],
   "source": []
  }
 ],
 "metadata": {
  "kernelspec": {
   "display_name": "Python 3 (ipykernel)",
   "language": "python",
   "name": "python3"
  },
  "language_info": {
   "codemirror_mode": {
    "name": "ipython",
    "version": 3
   },
   "file_extension": ".py",
   "mimetype": "text/x-python",
   "name": "python",
   "nbconvert_exporter": "python",
   "pygments_lexer": "ipython3",
   "version": "3.9.17"
  }
 },
 "nbformat": 4,
 "nbformat_minor": 5
}
