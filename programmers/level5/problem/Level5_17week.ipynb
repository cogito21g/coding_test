{
 "cells": [
  {
   "cell_type": "markdown",
   "id": "cc466c49",
   "metadata": {},
   "source": [
    "[스마트한 프로도](https://school.programmers.co.kr/learn/courses/30/lessons/1840)"
   ]
  },
  {
   "cell_type": "code",
   "execution_count": null,
   "id": "ad7ebe07",
   "metadata": {},
   "outputs": [],
   "source": []
  },
  {
   "cell_type": "code",
   "execution_count": null,
   "id": "bcb3a264",
   "metadata": {},
   "outputs": [],
   "source": []
  }
 ],
 "metadata": {
  "kernelspec": {
   "display_name": "Python 3 (ipykernel)",
   "language": "python",
   "name": "python3"
  },
  "language_info": {
   "codemirror_mode": {
    "name": "ipython",
    "version": 3
   },
   "file_extension": ".py",
   "mimetype": "text/x-python",
   "name": "python",
   "nbconvert_exporter": "python",
   "pygments_lexer": "ipython3",
   "version": "3.9.17"
  }
 },
 "nbformat": 4,
 "nbformat_minor": 5
}
