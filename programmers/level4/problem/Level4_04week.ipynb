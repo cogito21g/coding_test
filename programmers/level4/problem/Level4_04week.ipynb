{
 "cells": [
  {
   "cell_type": "markdown",
   "id": "6f47276e",
   "metadata": {},
   "source": [
    "[매출 하락 최소화](https://school.programmers.co.kr/learn/courses/30/lessons/72416)"
   ]
  },
  {
   "cell_type": "code",
   "execution_count": null,
   "id": "48227cce",
   "metadata": {},
   "outputs": [],
   "source": []
  },
  {
   "cell_type": "code",
   "execution_count": null,
   "id": "98c15de5",
   "metadata": {},
   "outputs": [],
   "source": []
  },
  {
   "cell_type": "markdown",
   "id": "29b431a5",
   "metadata": {},
   "source": [
    "[트리 트리오 중간값](https://school.programmers.co.kr/learn/courses/30/lessons/68937)"
   ]
  },
  {
   "cell_type": "code",
   "execution_count": null,
   "id": "2ddb77bc",
   "metadata": {},
   "outputs": [],
   "source": []
  },
  {
   "cell_type": "code",
   "execution_count": null,
   "id": "32bff9d2",
   "metadata": {},
   "outputs": [],
   "source": []
  },
  {
   "cell_type": "markdown",
   "id": "c36829c4",
   "metadata": {},
   "source": [
    "[짝수 행 세기](https://school.programmers.co.kr/learn/courses/30/lessons/68647)"
   ]
  },
  {
   "cell_type": "code",
   "execution_count": null,
   "id": "64fae044",
   "metadata": {},
   "outputs": [],
   "source": []
  },
  {
   "cell_type": "code",
   "execution_count": null,
   "id": "8bae5ec1",
   "metadata": {},
   "outputs": [],
   "source": []
  }
 ],
 "metadata": {
  "kernelspec": {
   "display_name": "Python 3 (ipykernel)",
   "language": "python",
   "name": "python3"
  },
  "language_info": {
   "codemirror_mode": {
    "name": "ipython",
    "version": 3
   },
   "file_extension": ".py",
   "mimetype": "text/x-python",
   "name": "python",
   "nbconvert_exporter": "python",
   "pygments_lexer": "ipython3",
   "version": "3.9.17"
  }
 },
 "nbformat": 4,
 "nbformat_minor": 5
}
