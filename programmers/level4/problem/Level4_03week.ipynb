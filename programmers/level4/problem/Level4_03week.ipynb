{
 "cells": [
  {
   "cell_type": "markdown",
   "id": "86b87b31",
   "metadata": {},
   "source": [
    "[행렬과 연산](https://school.programmers.co.kr/learn/courses/30/lessons/118670)"
   ]
  },
  {
   "cell_type": "code",
   "execution_count": null,
   "id": "cac181cf",
   "metadata": {},
   "outputs": [],
   "source": []
  },
  {
   "cell_type": "code",
   "execution_count": null,
   "id": "390a250d",
   "metadata": {},
   "outputs": [],
   "source": []
  },
  {
   "cell_type": "markdown",
   "id": "8211c426",
   "metadata": {},
   "source": [
    "[안티 세포](https://school.programmers.co.kr/learn/courses/30/lessons/86054)"
   ]
  },
  {
   "cell_type": "code",
   "execution_count": null,
   "id": "a061e57e",
   "metadata": {},
   "outputs": [],
   "source": []
  },
  {
   "cell_type": "code",
   "execution_count": null,
   "id": "b2c34334",
   "metadata": {},
   "outputs": [],
   "source": []
  },
  {
   "cell_type": "markdown",
   "id": "7fe9d0da",
   "metadata": {},
   "source": [
    "[미로 탈출](https://school.programmers.co.kr/learn/courses/30/lessons/81304)"
   ]
  },
  {
   "cell_type": "code",
   "execution_count": null,
   "id": "8892f95a",
   "metadata": {},
   "outputs": [],
   "source": []
  },
  {
   "cell_type": "code",
   "execution_count": null,
   "id": "a46158e2",
   "metadata": {},
   "outputs": [],
   "source": []
  }
 ],
 "metadata": {
  "kernelspec": {
   "display_name": "Python 3 (ipykernel)",
   "language": "python",
   "name": "python3"
  },
  "language_info": {
   "codemirror_mode": {
    "name": "ipython",
    "version": 3
   },
   "file_extension": ".py",
   "mimetype": "text/x-python",
   "name": "python",
   "nbconvert_exporter": "python",
   "pygments_lexer": "ipython3",
   "version": "3.9.17"
  }
 },
 "nbformat": 4,
 "nbformat_minor": 5
}
