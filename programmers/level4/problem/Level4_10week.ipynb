{
 "cells": [
  {
   "cell_type": "markdown",
   "id": "c06fda6c",
   "metadata": {},
   "source": [
    "[튜브의 소개팅](https://school.programmers.co.kr/learn/courses/30/lessons/1839)"
   ]
  },
  {
   "cell_type": "code",
   "execution_count": null,
   "id": "86705865",
   "metadata": {},
   "outputs": [],
   "source": []
  },
  {
   "cell_type": "code",
   "execution_count": null,
   "id": "abc3bae6",
   "metadata": {},
   "outputs": [],
   "source": []
  },
  {
   "cell_type": "markdown",
   "id": "baf529c0",
   "metadata": {},
   "source": [
    "[4단 고음](https://school.programmers.co.kr/learn/courses/30/lessons/1831)"
   ]
  },
  {
   "cell_type": "code",
   "execution_count": null,
   "id": "40d3dbc6",
   "metadata": {},
   "outputs": [],
   "source": []
  },
  {
   "cell_type": "code",
   "execution_count": null,
   "id": "8b514218",
   "metadata": {},
   "outputs": [],
   "source": []
  }
 ],
 "metadata": {
  "kernelspec": {
   "display_name": "Python 3 (ipykernel)",
   "language": "python",
   "name": "python3"
  },
  "language_info": {
   "codemirror_mode": {
    "name": "ipython",
    "version": 3
   },
   "file_extension": ".py",
   "mimetype": "text/x-python",
   "name": "python",
   "nbconvert_exporter": "python",
   "pygments_lexer": "ipython3",
   "version": "3.9.17"
  }
 },
 "nbformat": 4,
 "nbformat_minor": 5
}
