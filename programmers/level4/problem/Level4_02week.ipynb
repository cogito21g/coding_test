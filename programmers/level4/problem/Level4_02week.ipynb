{
 "cells": [
  {
   "cell_type": "markdown",
   "id": "2ba50b9b",
   "metadata": {},
   "source": [
    "SQL: [특정 기간동안 대여 가능한 자동차들의 대여비용 구하기](https://school.programmers.co.kr/learn/courses/30/lessons/157339)"
   ]
  },
  {
   "cell_type": "code",
   "execution_count": null,
   "id": "244adc20",
   "metadata": {},
   "outputs": [],
   "source": []
  },
  {
   "cell_type": "markdown",
   "id": "6a7eb330",
   "metadata": {},
   "source": [
    "SQL: [자동차 대여 기록 별 대여 금액 구하기](https://school.programmers.co.kr/learn/courses/30/lessons/151141)"
   ]
  },
  {
   "cell_type": "code",
   "execution_count": null,
   "id": "eb7c1323",
   "metadata": {},
   "outputs": [],
   "source": []
  },
  {
   "cell_type": "markdown",
   "id": "50febaa9",
   "metadata": {},
   "source": [
    "SQL: [저자 별 카테고리 별 매출액 집계하기](https://school.programmers.co.kr/learn/courses/30/lessons/144856)"
   ]
  },
  {
   "cell_type": "code",
   "execution_count": null,
   "id": "6627a3e5",
   "metadata": {},
   "outputs": [],
   "source": []
  },
  {
   "cell_type": "markdown",
   "id": "47e2e667",
   "metadata": {},
   "source": [
    "SQL: [주문량이 많은 아이스크림들 조회하기](https://school.programmers.co.kr/learn/courses/30/lessons/133027)"
   ]
  },
  {
   "cell_type": "code",
   "execution_count": null,
   "id": "4bb48ce5",
   "metadata": {},
   "outputs": [],
   "source": []
  },
  {
   "cell_type": "markdown",
   "id": "38fc5100",
   "metadata": {},
   "source": [
    "SQL: [취소되지 않은 진료 예약 조회하기](https://school.programmers.co.kr/learn/courses/30/lessons/132204)"
   ]
  },
  {
   "cell_type": "code",
   "execution_count": null,
   "id": "367ba605",
   "metadata": {},
   "outputs": [],
   "source": []
  },
  {
   "cell_type": "markdown",
   "id": "70dc0308",
   "metadata": {},
   "source": [
    "SQL: [오프라인/온라인 판매 데이터 통합하기](https://school.programmers.co.kr/learn/courses/30/lessons/131537)"
   ]
  },
  {
   "cell_type": "code",
   "execution_count": null,
   "id": "7cc796a6",
   "metadata": {},
   "outputs": [],
   "source": []
  },
  {
   "cell_type": "markdown",
   "id": "981e3e7b",
   "metadata": {},
   "source": [
    "SQL: [년, 월, 성별 별 상품 구매 회원 수 구하기](https://school.programmers.co.kr/learn/courses/30/lessons/131532)"
   ]
  },
  {
   "cell_type": "code",
   "execution_count": null,
   "id": "07c3958e",
   "metadata": {},
   "outputs": [],
   "source": []
  },
  {
   "cell_type": "markdown",
   "id": "e2e88054",
   "metadata": {},
   "source": [
    "SQL: [그룹별 조건에 맞는 식당 목록 출력하기](https://school.programmers.co.kr/learn/courses/30/lessons/131124)"
   ]
  },
  {
   "cell_type": "code",
   "execution_count": null,
   "id": "1880c5f8",
   "metadata": {},
   "outputs": [],
   "source": []
  },
  {
   "cell_type": "markdown",
   "id": "22c24af0",
   "metadata": {},
   "source": [
    "SQL: [서울에 위치한 식당 목록 출력하기](https://school.programmers.co.kr/learn/courses/30/lessons/131118)"
   ]
  },
  {
   "cell_type": "code",
   "execution_count": null,
   "id": "29229463",
   "metadata": {},
   "outputs": [],
   "source": []
  },
  {
   "cell_type": "markdown",
   "id": "35acf1e4",
   "metadata": {},
   "source": [
    "SQL: [5월 식품들의 총매출 조회하기](https://school.programmers.co.kr/learn/courses/30/lessons/131117)"
   ]
  },
  {
   "cell_type": "code",
   "execution_count": null,
   "id": "795db82c",
   "metadata": {},
   "outputs": [],
   "source": []
  },
  {
   "cell_type": "markdown",
   "id": "419878a1",
   "metadata": {},
   "source": [
    "SQL: [식품분류별 가장 비싼 식품의 정보 조회하기](https://school.programmers.co.kr/learn/courses/30/lessons/131116)"
   ]
  },
  {
   "cell_type": "code",
   "execution_count": null,
   "id": "3fe8bf6c",
   "metadata": {},
   "outputs": [],
   "source": []
  },
  {
   "cell_type": "markdown",
   "id": "93111bfc",
   "metadata": {},
   "source": [
    "SQL: [우유와 요거트가 담긴 장바구니](https://school.programmers.co.kr/learn/courses/30/lessons/62284)"
   ]
  },
  {
   "cell_type": "code",
   "execution_count": null,
   "id": "673ace6d",
   "metadata": {},
   "outputs": [],
   "source": []
  },
  {
   "cell_type": "markdown",
   "id": "6ed1df92",
   "metadata": {},
   "source": [
    "SQL: [입양 시각 구하기(2)](https://school.programmers.co.kr/learn/courses/30/lessons/59413)"
   ]
  },
  {
   "cell_type": "code",
   "execution_count": null,
   "id": "6442657c",
   "metadata": {},
   "outputs": [],
   "source": []
  },
  {
   "cell_type": "markdown",
   "id": "36daa2a3",
   "metadata": {},
   "source": [
    "SQL: [보호소에서 중성화한 동물](https://school.programmers.co.kr/learn/courses/30/lessons/59045)"
   ]
  },
  {
   "cell_type": "code",
   "execution_count": null,
   "id": "9ffb34f1",
   "metadata": {},
   "outputs": [],
   "source": []
  }
 ],
 "metadata": {
  "kernelspec": {
   "display_name": "Python 3 (ipykernel)",
   "language": "python",
   "name": "python3"
  },
  "language_info": {
   "codemirror_mode": {
    "name": "ipython",
    "version": 3
   },
   "file_extension": ".py",
   "mimetype": "text/x-python",
   "name": "python",
   "nbconvert_exporter": "python",
   "pygments_lexer": "ipython3",
   "version": "3.9.17"
  }
 },
 "nbformat": 4,
 "nbformat_minor": 5
}
