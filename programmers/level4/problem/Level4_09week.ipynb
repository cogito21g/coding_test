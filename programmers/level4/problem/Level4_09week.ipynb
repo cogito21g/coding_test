{
 "cells": [
  {
   "cell_type": "markdown",
   "id": "9d4397df",
   "metadata": {},
   "source": [
    "[단어 퍼즐](https://school.programmers.co.kr/learn/courses/30/lessons/12983)"
   ]
  },
  {
   "cell_type": "code",
   "execution_count": null,
   "id": "86a91fcf",
   "metadata": {},
   "outputs": [],
   "source": []
  },
  {
   "cell_type": "code",
   "execution_count": null,
   "id": "8c136f50",
   "metadata": {},
   "outputs": [],
   "source": []
  },
  {
   "cell_type": "markdown",
   "id": "7b85189b",
   "metadata": {},
   "source": [
    "[올바른 괄호의 갯수](https://school.programmers.co.kr/learn/courses/30/lessons/12929)"
   ]
  },
  {
   "cell_type": "code",
   "execution_count": null,
   "id": "4805be4c",
   "metadata": {},
   "outputs": [],
   "source": []
  },
  {
   "cell_type": "code",
   "execution_count": null,
   "id": "7b4531c6",
   "metadata": {},
   "outputs": [],
   "source": []
  },
  {
   "cell_type": "markdown",
   "id": "7547b352",
   "metadata": {},
   "source": [
    "[사칙연산](https://school.programmers.co.kr/learn/courses/30/lessons/1843)"
   ]
  },
  {
   "cell_type": "code",
   "execution_count": null,
   "id": "1fe29cd4",
   "metadata": {},
   "outputs": [],
   "source": []
  },
  {
   "cell_type": "code",
   "execution_count": null,
   "id": "84d74e56",
   "metadata": {},
   "outputs": [],
   "source": []
  }
 ],
 "metadata": {
  "kernelspec": {
   "display_name": "Python 3 (ipykernel)",
   "language": "python",
   "name": "python3"
  },
  "language_info": {
   "codemirror_mode": {
    "name": "ipython",
    "version": 3
   },
   "file_extension": ".py",
   "mimetype": "text/x-python",
   "name": "python",
   "nbconvert_exporter": "python",
   "pygments_lexer": "ipython3",
   "version": "3.9.17"
  }
 },
 "nbformat": 4,
 "nbformat_minor": 5
}
