{
 "cells": [
  {
   "cell_type": "markdown",
   "id": "00761a16",
   "metadata": {},
   "source": [
    "[지형 이동](https://school.programmers.co.kr/learn/courses/30/lessons/62050)"
   ]
  },
  {
   "cell_type": "code",
   "execution_count": null,
   "id": "8d45ba70",
   "metadata": {},
   "outputs": [],
   "source": []
  },
  {
   "cell_type": "code",
   "execution_count": null,
   "id": "0b0762c9",
   "metadata": {},
   "outputs": [],
   "source": []
  },
  {
   "cell_type": "markdown",
   "id": "499d6069",
   "metadata": {},
   "source": [
    "[가사 검색](https://school.programmers.co.kr/learn/courses/30/lessons/60060)"
   ]
  },
  {
   "cell_type": "code",
   "execution_count": null,
   "id": "3e0e824d",
   "metadata": {},
   "outputs": [],
   "source": []
  },
  {
   "cell_type": "code",
   "execution_count": null,
   "id": "bed1fb49",
   "metadata": {},
   "outputs": [],
   "source": []
  },
  {
   "cell_type": "markdown",
   "id": "998cfd5b",
   "metadata": {},
   "source": [
    "[쿠키 구입](https://school.programmers.co.kr/learn/courses/30/lessons/49995)"
   ]
  },
  {
   "cell_type": "code",
   "execution_count": null,
   "id": "e89643b6",
   "metadata": {},
   "outputs": [],
   "source": []
  },
  {
   "cell_type": "code",
   "execution_count": null,
   "id": "c3048080",
   "metadata": {},
   "outputs": [],
   "source": []
  }
 ],
 "metadata": {
  "kernelspec": {
   "display_name": "Python 3 (ipykernel)",
   "language": "python",
   "name": "python3"
  },
  "language_info": {
   "codemirror_mode": {
    "name": "ipython",
    "version": 3
   },
   "file_extension": ".py",
   "mimetype": "text/x-python",
   "name": "python",
   "nbconvert_exporter": "python",
   "pygments_lexer": "ipython3",
   "version": "3.9.17"
  }
 },
 "nbformat": 4,
 "nbformat_minor": 5
}
