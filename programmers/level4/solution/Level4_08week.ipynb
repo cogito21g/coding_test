{
 "cells": [
  {
   "cell_type": "markdown",
   "id": "48a88f59",
   "metadata": {},
   "source": [
    "[무지의 먹방 라이브](https://school.programmers.co.kr/learn/courses/30/lessons/42891)"
   ]
  },
  {
   "cell_type": "code",
   "execution_count": null,
   "id": "1e78775f",
   "metadata": {},
   "outputs": [],
   "source": []
  },
  {
   "cell_type": "code",
   "execution_count": null,
   "id": "38981b9d",
   "metadata": {},
   "outputs": [],
   "source": []
  },
  {
   "cell_type": "markdown",
   "id": "1f3d4dff",
   "metadata": {},
   "source": [
    "[[3차] 자동완성](https://school.programmers.co.kr/learn/courses/30/lessons/17685)"
   ]
  },
  {
   "cell_type": "code",
   "execution_count": null,
   "id": "fc4a5e5c",
   "metadata": {},
   "outputs": [],
   "source": []
  },
  {
   "cell_type": "code",
   "execution_count": null,
   "id": "99bd8b8d",
   "metadata": {},
   "outputs": [],
   "source": []
  },
  {
   "cell_type": "markdown",
   "id": "90f91c36",
   "metadata": {},
   "source": [
    "[지형 편집](https://school.programmers.co.kr/learn/courses/30/lessons/12984)"
   ]
  },
  {
   "cell_type": "code",
   "execution_count": null,
   "id": "5c488cff",
   "metadata": {},
   "outputs": [],
   "source": []
  },
  {
   "cell_type": "code",
   "execution_count": null,
   "id": "a07874b0",
   "metadata": {},
   "outputs": [],
   "source": []
  }
 ],
 "metadata": {
  "kernelspec": {
   "display_name": "Python 3 (ipykernel)",
   "language": "python",
   "name": "python3"
  },
  "language_info": {
   "codemirror_mode": {
    "name": "ipython",
    "version": 3
   },
   "file_extension": ".py",
   "mimetype": "text/x-python",
   "name": "python",
   "nbconvert_exporter": "python",
   "pygments_lexer": "ipython3",
   "version": "3.9.17"
  }
 },
 "nbformat": 4,
 "nbformat_minor": 5
}
