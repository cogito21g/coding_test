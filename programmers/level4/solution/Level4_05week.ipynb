{
 "cells": [
  {
   "cell_type": "markdown",
   "id": "f869fecd",
   "metadata": {},
   "source": [
    "[[카카오 인턴] 동굴 탐험](https://school.programmers.co.kr/learn/courses/30/lessons/67260)"
   ]
  },
  {
   "cell_type": "code",
   "execution_count": null,
   "id": "196327b0",
   "metadata": {},
   "outputs": [],
   "source": []
  },
  {
   "cell_type": "code",
   "execution_count": null,
   "id": "a7b8713a",
   "metadata": {},
   "outputs": [],
   "source": []
  },
  {
   "cell_type": "markdown",
   "id": "bd97daff",
   "metadata": {},
   "source": [
    "[호텔 방 배정](https://school.programmers.co.kr/learn/courses/30/lessons/64063)"
   ]
  },
  {
   "cell_type": "code",
   "execution_count": null,
   "id": "3458ac78",
   "metadata": {},
   "outputs": [],
   "source": []
  },
  {
   "cell_type": "code",
   "execution_count": null,
   "id": "194b02e7",
   "metadata": {},
   "outputs": [],
   "source": []
  },
  {
   "cell_type": "markdown",
   "id": "061b4ab9",
   "metadata": {},
   "source": [
    "[지형 이동](https://school.programmers.co.kr/learn/courses/30/lessons/62050)"
   ]
  },
  {
   "cell_type": "code",
   "execution_count": null,
   "id": "52c12066",
   "metadata": {},
   "outputs": [],
   "source": []
  },
  {
   "cell_type": "code",
   "execution_count": null,
   "id": "a79cc59c",
   "metadata": {},
   "outputs": [],
   "source": []
  }
 ],
 "metadata": {
  "kernelspec": {
   "display_name": "Python 3 (ipykernel)",
   "language": "python",
   "name": "python3"
  },
  "language_info": {
   "codemirror_mode": {
    "name": "ipython",
    "version": 3
   },
   "file_extension": ".py",
   "mimetype": "text/x-python",
   "name": "python",
   "nbconvert_exporter": "python",
   "pygments_lexer": "ipython3",
   "version": "3.9.17"
  }
 },
 "nbformat": 4,
 "nbformat_minor": 5
}
