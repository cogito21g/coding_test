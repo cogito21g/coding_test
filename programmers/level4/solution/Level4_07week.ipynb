{
 "cells": [
  {
   "cell_type": "markdown",
   "id": "46347bdc",
   "metadata": {},
   "source": [
    "[징검다리](https://school.programmers.co.kr/learn/courses/30/lessons/43236)"
   ]
  },
  {
   "cell_type": "code",
   "execution_count": null,
   "id": "7552895e",
   "metadata": {},
   "outputs": [],
   "source": []
  },
  {
   "cell_type": "code",
   "execution_count": null,
   "id": "326ee3aa",
   "metadata": {},
   "outputs": [],
   "source": []
  },
  {
   "cell_type": "markdown",
   "id": "c4869dff",
   "metadata": {},
   "source": [
    "[도둑질](https://school.programmers.co.kr/learn/courses/30/lessons/42897)"
   ]
  },
  {
   "cell_type": "code",
   "execution_count": null,
   "id": "ed463f07",
   "metadata": {},
   "outputs": [],
   "source": []
  },
  {
   "cell_type": "code",
   "execution_count": null,
   "id": "fb6a74f6",
   "metadata": {},
   "outputs": [],
   "source": []
  },
  {
   "cell_type": "markdown",
   "id": "2cf7014c",
   "metadata": {},
   "source": [
    "[블록 게임](https://school.programmers.co.kr/learn/courses/30/lessons/42894)"
   ]
  },
  {
   "cell_type": "code",
   "execution_count": null,
   "id": "07084136",
   "metadata": {},
   "outputs": [],
   "source": []
  },
  {
   "cell_type": "code",
   "execution_count": null,
   "id": "e7380634",
   "metadata": {},
   "outputs": [],
   "source": []
  }
 ],
 "metadata": {
  "kernelspec": {
   "display_name": "Python 3 (ipykernel)",
   "language": "python",
   "name": "python3"
  },
  "language_info": {
   "codemirror_mode": {
    "name": "ipython",
    "version": 3
   },
   "file_extension": ".py",
   "mimetype": "text/x-python",
   "name": "python",
   "nbconvert_exporter": "python",
   "pygments_lexer": "ipython3",
   "version": "3.9.17"
  }
 },
 "nbformat": 4,
 "nbformat_minor": 5
}
