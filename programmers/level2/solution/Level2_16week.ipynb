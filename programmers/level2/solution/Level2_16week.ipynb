{
 "cells": [
  {
   "cell_type": "markdown",
   "id": "15a3cbc5",
   "metadata": {},
   "source": [
    "[주식가격](https://school.programmers.co.kr/learn/courses/30/lessons/42584)"
   ]
  },
  {
   "cell_type": "code",
   "execution_count": null,
   "id": "b43de2fe",
   "metadata": {},
   "outputs": [],
   "source": []
  },
  {
   "cell_type": "code",
   "execution_count": null,
   "id": "b49260f7",
   "metadata": {},
   "outputs": [],
   "source": []
  },
  {
   "cell_type": "markdown",
   "id": "66ef41e3",
   "metadata": {},
   "source": [
    "[다리를 지나는 트럭](https://school.programmers.co.kr/learn/courses/30/lessons/42583)"
   ]
  },
  {
   "cell_type": "code",
   "execution_count": null,
   "id": "8ec082ec",
   "metadata": {},
   "outputs": [],
   "source": []
  },
  {
   "cell_type": "code",
   "execution_count": null,
   "id": "fde2a708",
   "metadata": {},
   "outputs": [],
   "source": []
  },
  {
   "cell_type": "markdown",
   "id": "8dd706d2",
   "metadata": {},
   "source": [
    "[의상](https://school.programmers.co.kr/learn/courses/30/lessons/42578)"
   ]
  },
  {
   "cell_type": "code",
   "execution_count": null,
   "id": "94a58d8d",
   "metadata": {},
   "outputs": [],
   "source": []
  },
  {
   "cell_type": "code",
   "execution_count": null,
   "id": "ca058a22",
   "metadata": {},
   "outputs": [],
   "source": []
  },
  {
   "cell_type": "markdown",
   "id": "2bac6213",
   "metadata": {},
   "source": [
    "[전화번호 목록](https://school.programmers.co.kr/learn/courses/30/lessons/42577)"
   ]
  },
  {
   "cell_type": "code",
   "execution_count": null,
   "id": "582283f6",
   "metadata": {},
   "outputs": [],
   "source": []
  },
  {
   "cell_type": "code",
   "execution_count": null,
   "id": "1fef570f",
   "metadata": {},
   "outputs": [],
   "source": []
  },
  {
   "cell_type": "markdown",
   "id": "56d19ac3",
   "metadata": {},
   "source": [
    "[[3차] n진수 게임](https://school.programmers.co.kr/learn/courses/30/lessons/17687)"
   ]
  },
  {
   "cell_type": "code",
   "execution_count": null,
   "id": "3bba3748",
   "metadata": {},
   "outputs": [],
   "source": []
  },
  {
   "cell_type": "code",
   "execution_count": null,
   "id": "72afeff0",
   "metadata": {},
   "outputs": [],
   "source": []
  }
 ],
 "metadata": {
  "kernelspec": {
   "display_name": "Python 3 (ipykernel)",
   "language": "python",
   "name": "python3"
  },
  "language_info": {
   "codemirror_mode": {
    "name": "ipython",
    "version": 3
   },
   "file_extension": ".py",
   "mimetype": "text/x-python",
   "name": "python",
   "nbconvert_exporter": "python",
   "pygments_lexer": "ipython3",
   "version": "3.9.17"
  }
 },
 "nbformat": 4,
 "nbformat_minor": 5
}
