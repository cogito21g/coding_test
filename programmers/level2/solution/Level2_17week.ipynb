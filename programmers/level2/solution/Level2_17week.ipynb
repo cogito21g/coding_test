{
 "cells": [
  {
   "cell_type": "markdown",
   "id": "1370883a",
   "metadata": {},
   "source": [
    "[[3차] 파일명 정렬](https://school.programmers.co.kr/learn/courses/30/lessons/17686)"
   ]
  },
  {
   "cell_type": "code",
   "execution_count": null,
   "id": "a4ac912e",
   "metadata": {},
   "outputs": [],
   "source": []
  },
  {
   "cell_type": "code",
   "execution_count": null,
   "id": "e9c76793",
   "metadata": {},
   "outputs": [],
   "source": []
  },
  {
   "cell_type": "markdown",
   "id": "47ec885b",
   "metadata": {},
   "source": [
    "[[3차] 압축](https://school.programmers.co.kr/learn/courses/30/lessons/17684)"
   ]
  },
  {
   "cell_type": "code",
   "execution_count": null,
   "id": "1e7d71a4",
   "metadata": {},
   "outputs": [],
   "source": []
  },
  {
   "cell_type": "code",
   "execution_count": null,
   "id": "706097f7",
   "metadata": {},
   "outputs": [],
   "source": []
  },
  {
   "cell_type": "markdown",
   "id": "3a8f7dfe",
   "metadata": {},
   "source": [
    "[[3차] 방금그곡](https://school.programmers.co.kr/learn/courses/30/lessons/17683)"
   ]
  },
  {
   "cell_type": "code",
   "execution_count": null,
   "id": "f8bc6cbc",
   "metadata": {},
   "outputs": [],
   "source": []
  },
  {
   "cell_type": "code",
   "execution_count": null,
   "id": "86dd7fd6",
   "metadata": {},
   "outputs": [],
   "source": []
  },
  {
   "cell_type": "markdown",
   "id": "4cc95a66",
   "metadata": {},
   "source": [
    "[[1차] 캐시](https://school.programmers.co.kr/learn/courses/30/lessons/17680)"
   ]
  },
  {
   "cell_type": "code",
   "execution_count": null,
   "id": "c05131eb",
   "metadata": {},
   "outputs": [],
   "source": []
  },
  {
   "cell_type": "code",
   "execution_count": null,
   "id": "e0382d31",
   "metadata": {},
   "outputs": [],
   "source": []
  },
  {
   "cell_type": "markdown",
   "id": "95438bf8",
   "metadata": {},
   "source": [
    "[[1차] 프렌즈4블록](https://school.programmers.co.kr/learn/courses/30/lessons/17679)"
   ]
  },
  {
   "cell_type": "code",
   "execution_count": null,
   "id": "69836c96",
   "metadata": {},
   "outputs": [],
   "source": []
  },
  {
   "cell_type": "code",
   "execution_count": null,
   "id": "a328850e",
   "metadata": {},
   "outputs": [],
   "source": []
  }
 ],
 "metadata": {
  "kernelspec": {
   "display_name": "Python 3 (ipykernel)",
   "language": "python",
   "name": "python3"
  },
  "language_info": {
   "codemirror_mode": {
    "name": "ipython",
    "version": 3
   },
   "file_extension": ".py",
   "mimetype": "text/x-python",
   "name": "python",
   "nbconvert_exporter": "python",
   "pygments_lexer": "ipython3",
   "version": "3.9.17"
  }
 },
 "nbformat": 4,
 "nbformat_minor": 5
}
