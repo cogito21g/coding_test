{
 "cells": [
  {
   "cell_type": "markdown",
   "id": "e53347f5",
   "metadata": {},
   "source": [
    "[방문 길이](https://school.programmers.co.kr/learn/courses/30/lessons/49994)"
   ]
  },
  {
   "cell_type": "code",
   "execution_count": null,
   "id": "99ab423d",
   "metadata": {},
   "outputs": [],
   "source": []
  },
  {
   "cell_type": "code",
   "execution_count": null,
   "id": "9322b7ac",
   "metadata": {},
   "outputs": [],
   "source": []
  },
  {
   "cell_type": "markdown",
   "id": "bb839280",
   "metadata": {},
   "source": [
    "[스킬트리](https://school.programmers.co.kr/learn/courses/30/lessons/49993)"
   ]
  },
  {
   "cell_type": "code",
   "execution_count": null,
   "id": "9870341d",
   "metadata": {},
   "outputs": [],
   "source": []
  },
  {
   "cell_type": "code",
   "execution_count": null,
   "id": "3cafa142",
   "metadata": {},
   "outputs": [],
   "source": []
  },
  {
   "cell_type": "markdown",
   "id": "cedab0cc",
   "metadata": {},
   "source": [
    "[타겟 넘버](https://school.programmers.co.kr/learn/courses/30/lessons/43165)"
   ]
  },
  {
   "cell_type": "code",
   "execution_count": null,
   "id": "e2e66aa9",
   "metadata": {},
   "outputs": [],
   "source": []
  },
  {
   "cell_type": "code",
   "execution_count": null,
   "id": "c794ca8e",
   "metadata": {},
   "outputs": [],
   "source": []
  },
  {
   "cell_type": "markdown",
   "id": "79166ee4",
   "metadata": {},
   "source": [
    "[후보키](https://school.programmers.co.kr/learn/courses/30/lessons/42890)"
   ]
  },
  {
   "cell_type": "code",
   "execution_count": null,
   "id": "e30cbeda",
   "metadata": {},
   "outputs": [],
   "source": []
  },
  {
   "cell_type": "code",
   "execution_count": null,
   "id": "16e44f99",
   "metadata": {},
   "outputs": [],
   "source": []
  },
  {
   "cell_type": "markdown",
   "id": "cafda6e3",
   "metadata": {},
   "source": [
    "[오픈채팅방](https://school.programmers.co.kr/learn/courses/30/lessons/42888)"
   ]
  },
  {
   "cell_type": "code",
   "execution_count": null,
   "id": "6855608e",
   "metadata": {},
   "outputs": [],
   "source": []
  },
  {
   "cell_type": "code",
   "execution_count": null,
   "id": "1fbd5d86",
   "metadata": {},
   "outputs": [],
   "source": []
  }
 ],
 "metadata": {
  "kernelspec": {
   "display_name": "Python 3 (ipykernel)",
   "language": "python",
   "name": "python3"
  },
  "language_info": {
   "codemirror_mode": {
    "name": "ipython",
    "version": 3
   },
   "file_extension": ".py",
   "mimetype": "text/x-python",
   "name": "python",
   "nbconvert_exporter": "python",
   "pygments_lexer": "ipython3",
   "version": "3.9.17"
  }
 },
 "nbformat": 4,
 "nbformat_minor": 5
}
