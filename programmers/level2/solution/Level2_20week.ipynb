{
 "cells": [
  {
   "cell_type": "markdown",
   "id": "1260b0b7",
   "metadata": {},
   "source": [
    "[하노이의 탑](https://school.programmers.co.kr/learn/courses/30/lessons/12946)"
   ]
  },
  {
   "cell_type": "code",
   "execution_count": null,
   "id": "ac749d5a",
   "metadata": {},
   "outputs": [],
   "source": []
  },
  {
   "cell_type": "code",
   "execution_count": null,
   "id": "6cdae155",
   "metadata": {},
   "outputs": [],
   "source": []
  },
  {
   "cell_type": "markdown",
   "id": "b93b4e25",
   "metadata": {},
   "source": [
    "[피보나치 수](https://school.programmers.co.kr/learn/courses/30/lessons/12945)"
   ]
  },
  {
   "cell_type": "code",
   "execution_count": null,
   "id": "b25725fe",
   "metadata": {},
   "outputs": [],
   "source": []
  },
  {
   "cell_type": "code",
   "execution_count": null,
   "id": "c96adecf",
   "metadata": {},
   "outputs": [],
   "source": []
  },
  {
   "cell_type": "markdown",
   "id": "6593e5f2",
   "metadata": {},
   "source": [
    "[최솟값 만들기](https://school.programmers.co.kr/learn/courses/30/lessons/12941)"
   ]
  },
  {
   "cell_type": "code",
   "execution_count": null,
   "id": "5a70cbdd",
   "metadata": {},
   "outputs": [],
   "source": []
  },
  {
   "cell_type": "code",
   "execution_count": null,
   "id": "ca404d4d",
   "metadata": {},
   "outputs": [],
   "source": []
  },
  {
   "cell_type": "markdown",
   "id": "29bd535a",
   "metadata": {},
   "source": [
    "[최댓값과 최솟값](https://school.programmers.co.kr/learn/courses/30/lessons/12939)"
   ]
  },
  {
   "cell_type": "code",
   "execution_count": null,
   "id": "25fd9402",
   "metadata": {},
   "outputs": [],
   "source": []
  },
  {
   "cell_type": "code",
   "execution_count": null,
   "id": "9bed5a4b",
   "metadata": {},
   "outputs": [],
   "source": []
  },
  {
   "cell_type": "markdown",
   "id": "d1b415e5",
   "metadata": {},
   "source": [
    "[줄 서는 방법](https://school.programmers.co.kr/learn/courses/30/lessons/12936)"
   ]
  },
  {
   "cell_type": "code",
   "execution_count": null,
   "id": "8ff1c16f",
   "metadata": {},
   "outputs": [],
   "source": []
  },
  {
   "cell_type": "code",
   "execution_count": null,
   "id": "13c2059c",
   "metadata": {},
   "outputs": [],
   "source": []
  }
 ],
 "metadata": {
  "kernelspec": {
   "display_name": "Python 3 (ipykernel)",
   "language": "python",
   "name": "python3"
  },
  "language_info": {
   "codemirror_mode": {
    "name": "ipython",
    "version": 3
   },
   "file_extension": ".py",
   "mimetype": "text/x-python",
   "name": "python",
   "nbconvert_exporter": "python",
   "pygments_lexer": "ipython3",
   "version": "3.9.17"
  }
 },
 "nbformat": 4,
 "nbformat_minor": 5
}
