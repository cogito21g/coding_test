{
 "cells": [
  {
   "cell_type": "markdown",
   "id": "41f5dbde",
   "metadata": {},
   "source": [
    "SQL: [DATETIME에서 DATE로 형 변환](https://school.programmers.co.kr/learn/courses/30/lessons/59414)"
   ]
  },
  {
   "cell_type": "code",
   "execution_count": null,
   "id": "db13064e",
   "metadata": {},
   "outputs": [],
   "source": []
  },
  {
   "cell_type": "markdown",
   "id": "8b4c3f8d",
   "metadata": {},
   "source": [
    "SQL: [입양 시각 구하기(1)](https://school.programmers.co.kr/learn/courses/30/lessons/59412)"
   ]
  },
  {
   "cell_type": "code",
   "execution_count": null,
   "id": "7536dbc8",
   "metadata": {},
   "outputs": [],
   "source": []
  },
  {
   "cell_type": "markdown",
   "id": "03d618bf",
   "metadata": {},
   "source": [
    "SQL: [NULL 처리하기](https://school.programmers.co.kr/learn/courses/30/lessons/59410)"
   ]
  },
  {
   "cell_type": "code",
   "execution_count": null,
   "id": "58d637b5",
   "metadata": {},
   "outputs": [],
   "source": []
  },
  {
   "cell_type": "markdown",
   "id": "a6efabdc",
   "metadata": {},
   "source": [
    "SQL: [중성화 여부 파악하기](https://school.programmers.co.kr/learn/courses/30/lessons/59409)"
   ]
  },
  {
   "cell_type": "code",
   "execution_count": null,
   "id": "802731a2",
   "metadata": {},
   "outputs": [],
   "source": []
  },
  {
   "cell_type": "markdown",
   "id": "40f8ce55",
   "metadata": {},
   "source": [
    "SQL: [중복 제거하기](https://school.programmers.co.kr/learn/courses/30/lessons/59408)"
   ]
  },
  {
   "cell_type": "code",
   "execution_count": null,
   "id": "7c56f378",
   "metadata": {},
   "outputs": [],
   "source": []
  },
  {
   "cell_type": "markdown",
   "id": "cd86228f",
   "metadata": {},
   "source": [
    "SQL: [동물 수 구하기](https://school.programmers.co.kr/learn/courses/30/lessons/59406)"
   ]
  },
  {
   "cell_type": "code",
   "execution_count": null,
   "id": "9a8254fc",
   "metadata": {},
   "outputs": [],
   "source": []
  },
  {
   "cell_type": "markdown",
   "id": "2974a579",
   "metadata": {},
   "source": [
    "SQL: [이름에 el이 들어가는 동물 찾기](https://school.programmers.co.kr/learn/courses/30/lessons/59047)"
   ]
  },
  {
   "cell_type": "code",
   "execution_count": null,
   "id": "2d043b9c",
   "metadata": {},
   "outputs": [],
   "source": []
  },
  {
   "cell_type": "markdown",
   "id": "d83dab4c",
   "metadata": {},
   "source": [
    "SQL: [루시와 엘라 찾기](https://school.programmers.co.kr/learn/courses/30/lessons/59046)"
   ]
  },
  {
   "cell_type": "code",
   "execution_count": null,
   "id": "36a024aa",
   "metadata": {},
   "outputs": [],
   "source": []
  },
  {
   "cell_type": "markdown",
   "id": "60a8b0da",
   "metadata": {},
   "source": [
    "SQL: [동명 동물 수 찾기](https://school.programmers.co.kr/learn/courses/30/lessons/59041)"
   ]
  },
  {
   "cell_type": "code",
   "execution_count": null,
   "id": "39df56dc",
   "metadata": {},
   "outputs": [],
   "source": []
  },
  {
   "cell_type": "markdown",
   "id": "e6d91bac",
   "metadata": {},
   "source": [
    "SQL: [고양이와 개는 몇 마리 있을까](https://school.programmers.co.kr/learn/courses/30/lessons/59040)"
   ]
  },
  {
   "cell_type": "code",
   "execution_count": null,
   "id": "c48a2c43",
   "metadata": {},
   "outputs": [],
   "source": []
  },
  {
   "cell_type": "markdown",
   "id": "47cda50f",
   "metadata": {},
   "source": [
    "SQL: [최솟값 구하기](https://school.programmers.co.kr/learn/courses/30/lessons/59038)"
   ]
  },
  {
   "cell_type": "code",
   "execution_count": null,
   "id": "140de699",
   "metadata": {},
   "outputs": [],
   "source": []
  }
 ],
 "metadata": {
  "kernelspec": {
   "display_name": "Python 3 (ipykernel)",
   "language": "python",
   "name": "python3"
  },
  "language_info": {
   "codemirror_mode": {
    "name": "ipython",
    "version": 3
   },
   "file_extension": ".py",
   "mimetype": "text/x-python",
   "name": "python",
   "nbconvert_exporter": "python",
   "pygments_lexer": "ipython3",
   "version": "3.9.17"
  }
 },
 "nbformat": 4,
 "nbformat_minor": 5
}
