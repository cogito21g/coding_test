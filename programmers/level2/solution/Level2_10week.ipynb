{
 "cells": [
  {
   "cell_type": "markdown",
   "id": "7faf9689",
   "metadata": {},
   "source": [
    "[순위 검색](https://school.programmers.co.kr/learn/courses/30/lessons/72412)"
   ]
  },
  {
   "cell_type": "code",
   "execution_count": null,
   "id": "71ec31de",
   "metadata": {},
   "outputs": [],
   "source": []
  },
  {
   "cell_type": "code",
   "execution_count": null,
   "id": "f111cdb0",
   "metadata": {},
   "outputs": [],
   "source": []
  },
  {
   "cell_type": "markdown",
   "id": "72b7f387",
   "metadata": {},
   "source": [
    "[메뉴 리뉴얼](https://school.programmers.co.kr/learn/courses/30/lessons/72411)"
   ]
  },
  {
   "cell_type": "code",
   "execution_count": null,
   "id": "51359c59",
   "metadata": {},
   "outputs": [],
   "source": []
  },
  {
   "cell_type": "code",
   "execution_count": null,
   "id": "6267c066",
   "metadata": {},
   "outputs": [],
   "source": []
  },
  {
   "cell_type": "markdown",
   "id": "5c958ee8",
   "metadata": {},
   "source": [
    "[이진 변환 반복하기](https://school.programmers.co.kr/learn/courses/30/lessons/70129)"
   ]
  },
  {
   "cell_type": "code",
   "execution_count": null,
   "id": "06401620",
   "metadata": {},
   "outputs": [],
   "source": []
  },
  {
   "cell_type": "code",
   "execution_count": null,
   "id": "e5c6398d",
   "metadata": {},
   "outputs": [],
   "source": []
  },
  {
   "cell_type": "markdown",
   "id": "99838e54",
   "metadata": {},
   "source": [
    "[쿼드압축 후 개수 세기](https://school.programmers.co.kr/learn/courses/30/lessons/68936)"
   ]
  },
  {
   "cell_type": "code",
   "execution_count": null,
   "id": "1470c1f4",
   "metadata": {},
   "outputs": [],
   "source": []
  },
  {
   "cell_type": "code",
   "execution_count": null,
   "id": "752af60f",
   "metadata": {},
   "outputs": [],
   "source": []
  },
  {
   "cell_type": "markdown",
   "id": "dd39010f",
   "metadata": {},
   "source": [
    "[삼각 달팽이](https://school.programmers.co.kr/learn/courses/30/lessons/68645)"
   ]
  },
  {
   "cell_type": "code",
   "execution_count": null,
   "id": "03707ae7",
   "metadata": {},
   "outputs": [],
   "source": []
  },
  {
   "cell_type": "code",
   "execution_count": null,
   "id": "4be55a80",
   "metadata": {},
   "outputs": [],
   "source": []
  }
 ],
 "metadata": {
  "kernelspec": {
   "display_name": "Python 3 (ipykernel)",
   "language": "python",
   "name": "python3"
  },
  "language_info": {
   "codemirror_mode": {
    "name": "ipython",
    "version": 3
   },
   "file_extension": ".py",
   "mimetype": "text/x-python",
   "name": "python",
   "nbconvert_exporter": "python",
   "pygments_lexer": "ipython3",
   "version": "3.9.17"
  }
 },
 "nbformat": 4,
 "nbformat_minor": 5
}
