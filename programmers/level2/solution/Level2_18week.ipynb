{
 "cells": [
  {
   "cell_type": "markdown",
   "id": "19906c18",
   "metadata": {},
   "source": [
    "[[1차] 뉴스 클러스터링](https://school.programmers.co.kr/learn/courses/30/lessons/17677)"
   ]
  },
  {
   "cell_type": "code",
   "execution_count": null,
   "id": "78edc05f",
   "metadata": {},
   "outputs": [],
   "source": []
  },
  {
   "cell_type": "code",
   "execution_count": null,
   "id": "7351de3d",
   "metadata": {},
   "outputs": [],
   "source": []
  },
  {
   "cell_type": "markdown",
   "id": "06b7ed55",
   "metadata": {},
   "source": [
    "[예상 대진표](https://school.programmers.co.kr/learn/courses/30/lessons/12985)"
   ]
  },
  {
   "cell_type": "code",
   "execution_count": null,
   "id": "b6a6f645",
   "metadata": {},
   "outputs": [],
   "source": []
  },
  {
   "cell_type": "code",
   "execution_count": null,
   "id": "17974bd7",
   "metadata": {},
   "outputs": [],
   "source": []
  },
  {
   "cell_type": "markdown",
   "id": "cce0ddc1",
   "metadata": {},
   "source": [
    "[영어 끝말잇기](https://school.programmers.co.kr/learn/courses/30/lessons/12981)"
   ]
  },
  {
   "cell_type": "code",
   "execution_count": null,
   "id": "3e907a7c",
   "metadata": {},
   "outputs": [],
   "source": []
  },
  {
   "cell_type": "code",
   "execution_count": null,
   "id": "5f88dd25",
   "metadata": {},
   "outputs": [],
   "source": []
  },
  {
   "cell_type": "markdown",
   "id": "6f19fa17",
   "metadata": {},
   "source": [
    "[점프와 순간 이동](https://school.programmers.co.kr/learn/courses/30/lessons/12980)"
   ]
  },
  {
   "cell_type": "code",
   "execution_count": null,
   "id": "c3e41443",
   "metadata": {},
   "outputs": [],
   "source": []
  },
  {
   "cell_type": "code",
   "execution_count": null,
   "id": "5039ee7d",
   "metadata": {},
   "outputs": [],
   "source": []
  },
  {
   "cell_type": "markdown",
   "id": "a889e7fa",
   "metadata": {},
   "source": [
    "[배달](https://school.programmers.co.kr/learn/courses/30/lessons/12978)"
   ]
  },
  {
   "cell_type": "code",
   "execution_count": null,
   "id": "4f9d32dc",
   "metadata": {},
   "outputs": [],
   "source": []
  },
  {
   "cell_type": "code",
   "execution_count": null,
   "id": "6b7b0fb1",
   "metadata": {},
   "outputs": [],
   "source": []
  }
 ],
 "metadata": {
  "kernelspec": {
   "display_name": "Python 3 (ipykernel)",
   "language": "python",
   "name": "python3"
  },
  "language_info": {
   "codemirror_mode": {
    "name": "ipython",
    "version": 3
   },
   "file_extension": ".py",
   "mimetype": "text/x-python",
   "name": "python",
   "nbconvert_exporter": "python",
   "pygments_lexer": "ipython3",
   "version": "3.9.17"
  }
 },
 "nbformat": 4,
 "nbformat_minor": 5
}
