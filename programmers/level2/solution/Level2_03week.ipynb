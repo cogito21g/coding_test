{
 "cells": [
  {
   "cell_type": "markdown",
   "id": "9b3218de",
   "metadata": {},
   "source": [
    "[미로 탈출](https://school.programmers.co.kr/learn/courses/30/lessons/159993)"
   ]
  },
  {
   "cell_type": "code",
   "execution_count": null,
   "id": "39e02e0e",
   "metadata": {},
   "outputs": [],
   "source": []
  },
  {
   "cell_type": "code",
   "execution_count": null,
   "id": "42f5261a",
   "metadata": {},
   "outputs": [],
   "source": []
  },
  {
   "cell_type": "markdown",
   "id": "5c6bdac9",
   "metadata": {},
   "source": [
    "[호텔 대실](https://school.programmers.co.kr/learn/courses/30/lessons/155651)"
   ]
  },
  {
   "cell_type": "code",
   "execution_count": null,
   "id": "459295da",
   "metadata": {},
   "outputs": [],
   "source": []
  },
  {
   "cell_type": "code",
   "execution_count": null,
   "id": "6c17a013",
   "metadata": {},
   "outputs": [],
   "source": []
  },
  {
   "cell_type": "markdown",
   "id": "f0e5a74f",
   "metadata": {},
   "source": [
    "[무인도 여행](https://school.programmers.co.kr/learn/courses/30/lessons/154540)"
   ]
  },
  {
   "cell_type": "code",
   "execution_count": null,
   "id": "4fe52ca1",
   "metadata": {},
   "outputs": [],
   "source": []
  },
  {
   "cell_type": "code",
   "execution_count": null,
   "id": "bac3658b",
   "metadata": {},
   "outputs": [],
   "source": []
  },
  {
   "cell_type": "markdown",
   "id": "3e1c2b23",
   "metadata": {},
   "source": [
    "[뒤에 있는 큰 수 찾기](https://school.programmers.co.kr/learn/courses/30/lessons/154539)"
   ]
  },
  {
   "cell_type": "code",
   "execution_count": null,
   "id": "dbabea0d",
   "metadata": {},
   "outputs": [],
   "source": []
  },
  {
   "cell_type": "code",
   "execution_count": null,
   "id": "8980e3f2",
   "metadata": {},
   "outputs": [],
   "source": []
  },
  {
   "cell_type": "markdown",
   "id": "9bcaf615",
   "metadata": {},
   "source": [
    "[숫자 변환하기](https://school.programmers.co.kr/learn/courses/30/lessons/154538)"
   ]
  },
  {
   "cell_type": "code",
   "execution_count": null,
   "id": "dc1bb8c0",
   "metadata": {},
   "outputs": [],
   "source": []
  },
  {
   "cell_type": "code",
   "execution_count": null,
   "id": "5fe3c0d1",
   "metadata": {},
   "outputs": [],
   "source": []
  },
  {
   "cell_type": "markdown",
   "id": "684c0ae8",
   "metadata": {},
   "source": [
    "SQL: [자동차 평균 대여 기간 구하기](https://school.programmers.co.kr/learn/courses/30/lessons/157342)"
   ]
  },
  {
   "cell_type": "code",
   "execution_count": null,
   "id": "dc9c7ba2",
   "metadata": {},
   "outputs": [],
   "source": []
  }
 ],
 "metadata": {
  "kernelspec": {
   "display_name": "Python 3 (ipykernel)",
   "language": "python",
   "name": "python3"
  },
  "language_info": {
   "codemirror_mode": {
    "name": "ipython",
    "version": 3
   },
   "file_extension": ".py",
   "mimetype": "text/x-python",
   "name": "python",
   "nbconvert_exporter": "python",
   "pygments_lexer": "ipython3",
   "version": "3.9.17"
  }
 },
 "nbformat": 4,
 "nbformat_minor": 5
}
