{
 "cells": [
  {
   "cell_type": "markdown",
   "id": "41793de5",
   "metadata": {},
   "source": [
    "[올바른 괄호](https://school.programmers.co.kr/learn/courses/30/lessons/12909)"
   ]
  },
  {
   "cell_type": "code",
   "execution_count": null,
   "id": "a64e818d",
   "metadata": {},
   "outputs": [],
   "source": []
  },
  {
   "cell_type": "code",
   "execution_count": null,
   "id": "9b365143",
   "metadata": {},
   "outputs": [],
   "source": []
  },
  {
   "cell_type": "markdown",
   "id": "f68241b7",
   "metadata": {},
   "source": [
    "[가장 큰 정사각형 찾기](https://school.programmers.co.kr/learn/courses/30/lessons/12905)"
   ]
  },
  {
   "cell_type": "code",
   "execution_count": null,
   "id": "98b5e982",
   "metadata": {},
   "outputs": [],
   "source": []
  },
  {
   "cell_type": "code",
   "execution_count": null,
   "id": "6ad043b2",
   "metadata": {},
   "outputs": [],
   "source": []
  },
  {
   "cell_type": "markdown",
   "id": "1129d322",
   "metadata": {},
   "source": [
    "[3 x n 타일링](https://school.programmers.co.kr/learn/courses/30/lessons/12902)"
   ]
  },
  {
   "cell_type": "code",
   "execution_count": null,
   "id": "16d5bc72",
   "metadata": {},
   "outputs": [],
   "source": []
  },
  {
   "cell_type": "code",
   "execution_count": null,
   "id": "9f6cb777",
   "metadata": {},
   "outputs": [],
   "source": []
  },
  {
   "cell_type": "markdown",
   "id": "44f54ce1",
   "metadata": {},
   "source": [
    "[2 x n 타일링](https://school.programmers.co.kr/learn/courses/30/lessons/12900)"
   ]
  },
  {
   "cell_type": "code",
   "execution_count": null,
   "id": "695c2e5f",
   "metadata": {},
   "outputs": [],
   "source": []
  },
  {
   "cell_type": "code",
   "execution_count": null,
   "id": "2cfbae0d",
   "metadata": {},
   "outputs": [],
   "source": []
  },
  {
   "cell_type": "markdown",
   "id": "63158d2e",
   "metadata": {},
   "source": [
    "[124 나라의 숫자](https://school.programmers.co.kr/learn/courses/30/lessons/12899)"
   ]
  },
  {
   "cell_type": "code",
   "execution_count": null,
   "id": "624e9dab",
   "metadata": {},
   "outputs": [],
   "source": []
  },
  {
   "cell_type": "code",
   "execution_count": null,
   "id": "497e1d2f",
   "metadata": {},
   "outputs": [],
   "source": []
  }
 ],
 "metadata": {
  "kernelspec": {
   "display_name": "Python 3 (ipykernel)",
   "language": "python",
   "name": "python3"
  },
  "language_info": {
   "codemirror_mode": {
    "name": "ipython",
    "version": 3
   },
   "file_extension": ".py",
   "mimetype": "text/x-python",
   "name": "python",
   "nbconvert_exporter": "python",
   "pygments_lexer": "ipython3",
   "version": "3.9.17"
  }
 },
 "nbformat": 4,
 "nbformat_minor": 5
}
