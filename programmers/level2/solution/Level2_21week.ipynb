{
 "cells": [
  {
   "cell_type": "markdown",
   "id": "bb46eeac",
   "metadata": {},
   "source": [
    "[숫자의 표현](https://school.programmers.co.kr/learn/courses/30/lessons/12924)"
   ]
  },
  {
   "cell_type": "code",
   "execution_count": null,
   "id": "611e9909",
   "metadata": {},
   "outputs": [],
   "source": []
  },
  {
   "cell_type": "code",
   "execution_count": null,
   "id": "3fd85e92",
   "metadata": {},
   "outputs": [],
   "source": []
  },
  {
   "cell_type": "markdown",
   "id": "59bbc136",
   "metadata": {},
   "source": [
    "[숫자 블록](https://school.programmers.co.kr/learn/courses/30/lessons/12923)"
   ]
  },
  {
   "cell_type": "code",
   "execution_count": null,
   "id": "740eb74a",
   "metadata": {},
   "outputs": [],
   "source": []
  },
  {
   "cell_type": "code",
   "execution_count": null,
   "id": "cba1b1a1",
   "metadata": {},
   "outputs": [],
   "source": []
  },
  {
   "cell_type": "markdown",
   "id": "6a2023a0",
   "metadata": {},
   "source": [
    "[멀리 뛰기](https://school.programmers.co.kr/learn/courses/30/lessons/12914)"
   ]
  },
  {
   "cell_type": "code",
   "execution_count": null,
   "id": "761bf97f",
   "metadata": {},
   "outputs": [],
   "source": []
  },
  {
   "cell_type": "code",
   "execution_count": null,
   "id": "7f466d48",
   "metadata": {},
   "outputs": [],
   "source": []
  },
  {
   "cell_type": "markdown",
   "id": "01652d6c",
   "metadata": {},
   "source": [
    "[땅따먹기](https://school.programmers.co.kr/learn/courses/30/lessons/12913)"
   ]
  },
  {
   "cell_type": "code",
   "execution_count": null,
   "id": "18b9a34d",
   "metadata": {},
   "outputs": [],
   "source": []
  },
  {
   "cell_type": "code",
   "execution_count": null,
   "id": "4d9300cd",
   "metadata": {},
   "outputs": [],
   "source": []
  },
  {
   "cell_type": "markdown",
   "id": "ad243d56",
   "metadata": {},
   "source": [
    "[다음 큰 숫자](https://school.programmers.co.kr/learn/courses/30/lessons/12911)"
   ]
  },
  {
   "cell_type": "code",
   "execution_count": null,
   "id": "4721a6eb",
   "metadata": {},
   "outputs": [],
   "source": []
  },
  {
   "cell_type": "code",
   "execution_count": null,
   "id": "cb12fd47",
   "metadata": {},
   "outputs": [],
   "source": []
  }
 ],
 "metadata": {
  "kernelspec": {
   "display_name": "Python 3 (ipykernel)",
   "language": "python",
   "name": "python3"
  },
  "language_info": {
   "codemirror_mode": {
    "name": "ipython",
    "version": 3
   },
   "file_extension": ".py",
   "mimetype": "text/x-python",
   "name": "python",
   "nbconvert_exporter": "python",
   "pygments_lexer": "ipython3",
   "version": "3.9.17"
  }
 },
 "nbformat": 4,
 "nbformat_minor": 5
}
