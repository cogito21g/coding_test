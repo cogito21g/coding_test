{
 "cells": [
  {
   "cell_type": "markdown",
   "id": "aab2f867",
   "metadata": {},
   "source": [
    "[[PCCP 기출문제] 2번 / 석유 시추](https://school.programmers.co.kr/learn/courses/30/lessons/250136)"
   ]
  },
  {
   "cell_type": "code",
   "execution_count": null,
   "id": "7440883e",
   "metadata": {},
   "outputs": [],
   "source": []
  },
  {
   "cell_type": "code",
   "execution_count": null,
   "id": "1e2b213b",
   "metadata": {},
   "outputs": [],
   "source": [
    "# test_case\n"
   ]
  },
  {
   "cell_type": "markdown",
   "id": "6fb411ba",
   "metadata": {},
   "source": [
    "[[PCCP 기출문제] 3번 / 아날로그 시계](https://school.programmers.co.kr/learn/courses/30/lessons/250135)"
   ]
  },
  {
   "cell_type": "code",
   "execution_count": null,
   "id": "f7c2ec6e",
   "metadata": {},
   "outputs": [],
   "source": []
  },
  {
   "cell_type": "code",
   "execution_count": null,
   "id": "efc3b39e",
   "metadata": {},
   "outputs": [],
   "source": [
    "# test_case\n"
   ]
  },
  {
   "cell_type": "markdown",
   "id": "8cf0516d",
   "metadata": {},
   "source": [
    "[요격 시스템](https://school.programmers.co.kr/learn/courses/30/lessons/181188)"
   ]
  },
  {
   "cell_type": "code",
   "execution_count": null,
   "id": "f95f3991",
   "metadata": {},
   "outputs": [],
   "source": []
  },
  {
   "cell_type": "code",
   "execution_count": null,
   "id": "595b6859",
   "metadata": {},
   "outputs": [],
   "source": [
    "# test_case\n"
   ]
  },
  {
   "cell_type": "markdown",
   "id": "df1a9a5a",
   "metadata": {},
   "source": [
    "[두 원 사이의 정수 쌍](https://school.programmers.co.kr/learn/courses/30/lessons/181187)"
   ]
  },
  {
   "cell_type": "code",
   "execution_count": null,
   "id": "cb0129f0",
   "metadata": {},
   "outputs": [],
   "source": []
  },
  {
   "cell_type": "code",
   "execution_count": null,
   "id": "afb2af3e",
   "metadata": {},
   "outputs": [],
   "source": [
    "# test_case\n"
   ]
  },
  {
   "cell_type": "markdown",
   "id": "1d893685",
   "metadata": {},
   "source": [
    "[연속된 부분 수열의 합](https://school.programmers.co.kr/learn/courses/30/lessons/178870)"
   ]
  },
  {
   "cell_type": "code",
   "execution_count": null,
   "id": "44aa5ced",
   "metadata": {},
   "outputs": [],
   "source": []
  },
  {
   "cell_type": "code",
   "execution_count": null,
   "id": "9a13bb97",
   "metadata": {},
   "outputs": [],
   "source": [
    "# test_case\n"
   ]
  }
 ],
 "metadata": {
  "kernelspec": {
   "display_name": "Python 3 (ipykernel)",
   "language": "python",
   "name": "python3"
  },
  "language_info": {
   "codemirror_mode": {
    "name": "ipython",
    "version": 3
   },
   "file_extension": ".py",
   "mimetype": "text/x-python",
   "name": "python",
   "nbconvert_exporter": "python",
   "pygments_lexer": "ipython3",
   "version": "3.9.17"
  }
 },
 "nbformat": 4,
 "nbformat_minor": 5
}
