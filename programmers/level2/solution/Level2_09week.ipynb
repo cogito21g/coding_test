{
 "cells": [
  {
   "cell_type": "markdown",
   "id": "e5fb0ab8",
   "metadata": {},
   "source": [
    "[모음사전](https://school.programmers.co.kr/learn/courses/30/lessons/84512)"
   ]
  },
  {
   "cell_type": "code",
   "execution_count": null,
   "id": "879c1986",
   "metadata": {},
   "outputs": [],
   "source": []
  },
  {
   "cell_type": "code",
   "execution_count": null,
   "id": "da0b9c9c",
   "metadata": {},
   "outputs": [],
   "source": []
  },
  {
   "cell_type": "markdown",
   "id": "90ecfb9d",
   "metadata": {},
   "source": [
    "[거리두기 확인하기](https://school.programmers.co.kr/learn/courses/30/lessons/81302)"
   ]
  },
  {
   "cell_type": "code",
   "execution_count": null,
   "id": "224068fc",
   "metadata": {},
   "outputs": [],
   "source": []
  },
  {
   "cell_type": "code",
   "execution_count": null,
   "id": "37c176e9",
   "metadata": {},
   "outputs": [],
   "source": []
  },
  {
   "cell_type": "markdown",
   "id": "72affb72",
   "metadata": {},
   "source": [
    "[2개 이하로 다른 비트](https://school.programmers.co.kr/learn/courses/30/lessons/77885)"
   ]
  },
  {
   "cell_type": "code",
   "execution_count": null,
   "id": "d9b1b6e1",
   "metadata": {},
   "outputs": [],
   "source": []
  },
  {
   "cell_type": "code",
   "execution_count": null,
   "id": "9db3f046",
   "metadata": {},
   "outputs": [],
   "source": []
  },
  {
   "cell_type": "markdown",
   "id": "ac6298f8",
   "metadata": {},
   "source": [
    "[행렬 테두리 회전하기](https://school.programmers.co.kr/learn/courses/30/lessons/77485)"
   ]
  },
  {
   "cell_type": "code",
   "execution_count": null,
   "id": "81533ffb",
   "metadata": {},
   "outputs": [],
   "source": []
  },
  {
   "cell_type": "code",
   "execution_count": null,
   "id": "4cd78eab",
   "metadata": {},
   "outputs": [],
   "source": []
  },
  {
   "cell_type": "markdown",
   "id": "f088391e",
   "metadata": {},
   "source": [
    "[괄호 회전하기](https://school.programmers.co.kr/learn/courses/30/lessons/76502)"
   ]
  },
  {
   "cell_type": "code",
   "execution_count": null,
   "id": "1f0953f2",
   "metadata": {},
   "outputs": [],
   "source": []
  },
  {
   "cell_type": "code",
   "execution_count": null,
   "id": "18f38b67",
   "metadata": {},
   "outputs": [],
   "source": []
  }
 ],
 "metadata": {
  "kernelspec": {
   "display_name": "Python 3 (ipykernel)",
   "language": "python",
   "name": "python3"
  },
  "language_info": {
   "codemirror_mode": {
    "name": "ipython",
    "version": 3
   },
   "file_extension": ".py",
   "mimetype": "text/x-python",
   "name": "python",
   "nbconvert_exporter": "python",
   "pygments_lexer": "ipython3",
   "version": "3.9.17"
  }
 },
 "nbformat": 4,
 "nbformat_minor": 5
}
