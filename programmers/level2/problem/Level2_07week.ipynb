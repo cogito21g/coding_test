{
 "cells": [
  {
   "cell_type": "markdown",
   "id": "10604d8c",
   "metadata": {},
   "source": [
    "[할인 행사](https://school.programmers.co.kr/learn/courses/30/lessons/131127)"
   ]
  },
  {
   "cell_type": "code",
   "execution_count": null,
   "id": "cc89acb5",
   "metadata": {},
   "outputs": [],
   "source": []
  },
  {
   "cell_type": "code",
   "execution_count": null,
   "id": "3d7f1b99",
   "metadata": {},
   "outputs": [],
   "source": []
  },
  {
   "cell_type": "markdown",
   "id": "3694338d",
   "metadata": {},
   "source": [
    "[두 큐 합 같게 만들기](https://school.programmers.co.kr/learn/courses/30/lessons/118667)"
   ]
  },
  {
   "cell_type": "code",
   "execution_count": null,
   "id": "479d76ed",
   "metadata": {},
   "outputs": [],
   "source": []
  },
  {
   "cell_type": "code",
   "execution_count": null,
   "id": "7fc235ce",
   "metadata": {},
   "outputs": [],
   "source": []
  },
  {
   "cell_type": "markdown",
   "id": "c5a7f807",
   "metadata": {},
   "source": [
    "[양궁대회](https://school.programmers.co.kr/learn/courses/30/lessons/92342)"
   ]
  },
  {
   "cell_type": "code",
   "execution_count": null,
   "id": "ad97f34e",
   "metadata": {},
   "outputs": [],
   "source": []
  },
  {
   "cell_type": "code",
   "execution_count": null,
   "id": "c45bba8f",
   "metadata": {},
   "outputs": [],
   "source": []
  },
  {
   "cell_type": "markdown",
   "id": "7065e2d2",
   "metadata": {},
   "source": [
    "[주차 요금 계산](https://school.programmers.co.kr/learn/courses/30/lessons/92341)"
   ]
  },
  {
   "cell_type": "code",
   "execution_count": null,
   "id": "5bd807f4",
   "metadata": {},
   "outputs": [],
   "source": []
  },
  {
   "cell_type": "code",
   "execution_count": null,
   "id": "324dc1a0",
   "metadata": {},
   "outputs": [],
   "source": []
  },
  {
   "cell_type": "markdown",
   "id": "fdc7f078",
   "metadata": {},
   "source": [
    "[k진수에서 소수 개수 구하기](https://school.programmers.co.kr/learn/courses/30/lessons/92335)"
   ]
  },
  {
   "cell_type": "code",
   "execution_count": null,
   "id": "b8e18a91",
   "metadata": {},
   "outputs": [],
   "source": []
  },
  {
   "cell_type": "code",
   "execution_count": null,
   "id": "42b82eb2",
   "metadata": {},
   "outputs": [],
   "source": []
  },
  {
   "cell_type": "markdown",
   "id": "ef62b393",
   "metadata": {},
   "source": [
    "SQL: [3월에 태어난 여성 회원 목록 출력하기](https://school.programmers.co.kr/learn/courses/30/lessons/131120)"
   ]
  },
  {
   "cell_type": "code",
   "execution_count": null,
   "id": "172d4c29",
   "metadata": {},
   "outputs": [],
   "source": []
  },
  {
   "cell_type": "markdown",
   "id": "84fdf3aa",
   "metadata": {},
   "source": [
    "SQL: [가격이 제일 비싼 식품의 정보 출력하기](https://school.programmers.co.kr/learn/courses/30/lessons/131115)"
   ]
  },
  {
   "cell_type": "code",
   "execution_count": null,
   "id": "7e07f7c8",
   "metadata": {},
   "outputs": [],
   "source": []
  }
 ],
 "metadata": {
  "kernelspec": {
   "display_name": "Python 3 (ipykernel)",
   "language": "python",
   "name": "python3"
  },
  "language_info": {
   "codemirror_mode": {
    "name": "ipython",
    "version": 3
   },
   "file_extension": ".py",
   "mimetype": "text/x-python",
   "name": "python",
   "nbconvert_exporter": "python",
   "pygments_lexer": "ipython3",
   "version": "3.9.17"
  }
 },
 "nbformat": 4,
 "nbformat_minor": 5
}
