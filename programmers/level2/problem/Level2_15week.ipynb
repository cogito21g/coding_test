{
 "cells": [
  {
   "cell_type": "markdown",
   "id": "1b2dac20",
   "metadata": {},
   "source": [
    "[H-Index](https://school.programmers.co.kr/learn/courses/30/lessons/42747)"
   ]
  },
  {
   "cell_type": "code",
   "execution_count": null,
   "id": "2f04c2fc",
   "metadata": {},
   "outputs": [],
   "source": []
  },
  {
   "cell_type": "code",
   "execution_count": null,
   "id": "4fc33f0f",
   "metadata": {},
   "outputs": [],
   "source": []
  },
  {
   "cell_type": "markdown",
   "id": "bdbdece7",
   "metadata": {},
   "source": [
    "[가장 큰 수](https://school.programmers.co.kr/learn/courses/30/lessons/42746)"
   ]
  },
  {
   "cell_type": "code",
   "execution_count": null,
   "id": "eeb5ef15",
   "metadata": {},
   "outputs": [],
   "source": []
  },
  {
   "cell_type": "code",
   "execution_count": null,
   "id": "3a951f1b",
   "metadata": {},
   "outputs": [],
   "source": []
  },
  {
   "cell_type": "markdown",
   "id": "9b24cd6b",
   "metadata": {},
   "source": [
    "[더 맵게](https://school.programmers.co.kr/learn/courses/30/lessons/42626)"
   ]
  },
  {
   "cell_type": "code",
   "execution_count": null,
   "id": "667bf1ec",
   "metadata": {},
   "outputs": [],
   "source": []
  },
  {
   "cell_type": "code",
   "execution_count": null,
   "id": "c8c971cb",
   "metadata": {},
   "outputs": [],
   "source": []
  },
  {
   "cell_type": "markdown",
   "id": "2b678c81",
   "metadata": {},
   "source": [
    "[프로세스](https://school.programmers.co.kr/learn/courses/30/lessons/42587)"
   ]
  },
  {
   "cell_type": "code",
   "execution_count": null,
   "id": "ebc467b0",
   "metadata": {},
   "outputs": [],
   "source": []
  },
  {
   "cell_type": "code",
   "execution_count": null,
   "id": "17981855",
   "metadata": {},
   "outputs": [],
   "source": []
  },
  {
   "cell_type": "markdown",
   "id": "fcce117d",
   "metadata": {},
   "source": [
    "[기능개발](https://school.programmers.co.kr/learn/courses/30/lessons/42586)"
   ]
  },
  {
   "cell_type": "code",
   "execution_count": null,
   "id": "f72a3f50",
   "metadata": {},
   "outputs": [],
   "source": []
  },
  {
   "cell_type": "code",
   "execution_count": null,
   "id": "d2d52567",
   "metadata": {},
   "outputs": [],
   "source": []
  }
 ],
 "metadata": {
  "kernelspec": {
   "display_name": "Python 3 (ipykernel)",
   "language": "python",
   "name": "python3"
  },
  "language_info": {
   "codemirror_mode": {
    "name": "ipython",
    "version": 3
   },
   "file_extension": ".py",
   "mimetype": "text/x-python",
   "name": "python",
   "nbconvert_exporter": "python",
   "pygments_lexer": "ipython3",
   "version": "3.9.17"
  }
 },
 "nbformat": 4,
 "nbformat_minor": 5
}
