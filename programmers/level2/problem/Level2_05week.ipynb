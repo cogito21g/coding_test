{
 "cells": [
  {
   "cell_type": "markdown",
   "id": "12c48133",
   "metadata": {},
   "source": [
    "[테이블 해시 함수](https://school.programmers.co.kr/learn/courses/30/lessons/147354)"
   ]
  },
  {
   "cell_type": "code",
   "execution_count": null,
   "id": "c2fe5dc7",
   "metadata": {},
   "outputs": [],
   "source": []
  },
  {
   "cell_type": "code",
   "execution_count": null,
   "id": "fb3d5676",
   "metadata": {},
   "outputs": [],
   "source": []
  },
  {
   "cell_type": "markdown",
   "id": "c207e3ad",
   "metadata": {},
   "source": [
    "[디펜스 게임](https://school.programmers.co.kr/learn/courses/30/lessons/142085)"
   ]
  },
  {
   "cell_type": "code",
   "execution_count": null,
   "id": "a14748fc",
   "metadata": {},
   "outputs": [],
   "source": []
  },
  {
   "cell_type": "code",
   "execution_count": null,
   "id": "57069afc",
   "metadata": {},
   "outputs": [],
   "source": []
  },
  {
   "cell_type": "markdown",
   "id": "98f3fa9c",
   "metadata": {},
   "source": [
    "[점 찍기](https://school.programmers.co.kr/learn/courses/30/lessons/140107)"
   ]
  },
  {
   "cell_type": "code",
   "execution_count": null,
   "id": "dad50bc0",
   "metadata": {},
   "outputs": [],
   "source": []
  },
  {
   "cell_type": "code",
   "execution_count": null,
   "id": "00e1fb9d",
   "metadata": {},
   "outputs": [],
   "source": []
  },
  {
   "cell_type": "markdown",
   "id": "060f8fbe",
   "metadata": {},
   "source": [
    "[귤 고르기](https://school.programmers.co.kr/learn/courses/30/lessons/138476)"
   ]
  },
  {
   "cell_type": "code",
   "execution_count": null,
   "id": "4b28456a",
   "metadata": {},
   "outputs": [],
   "source": []
  },
  {
   "cell_type": "code",
   "execution_count": null,
   "id": "435ffdb2",
   "metadata": {},
   "outputs": [],
   "source": []
  },
  {
   "cell_type": "markdown",
   "id": "0c850802",
   "metadata": {},
   "source": [
    "[숫자 카드 나누기](https://school.programmers.co.kr/learn/courses/30/lessons/135807)"
   ]
  },
  {
   "cell_type": "code",
   "execution_count": null,
   "id": "751a0d49",
   "metadata": {},
   "outputs": [],
   "source": []
  },
  {
   "cell_type": "code",
   "execution_count": null,
   "id": "6c9db795",
   "metadata": {},
   "outputs": [],
   "source": []
  },
  {
   "cell_type": "markdown",
   "id": "0ad0a6b2",
   "metadata": {},
   "source": [
    "SQL: [조건에 맞는 도서와 저자 리스트 출력하기](https://school.programmers.co.kr/learn/courses/30/lessons/144854)"
   ]
  },
  {
   "cell_type": "code",
   "execution_count": null,
   "id": "53c1b6c2",
   "metadata": {},
   "outputs": [],
   "source": []
  }
 ],
 "metadata": {
  "kernelspec": {
   "display_name": "Python 3 (ipykernel)",
   "language": "python",
   "name": "python3"
  },
  "language_info": {
   "codemirror_mode": {
    "name": "ipython",
    "version": 3
   },
   "file_extension": ".py",
   "mimetype": "text/x-python",
   "name": "python",
   "nbconvert_exporter": "python",
   "pygments_lexer": "ipython3",
   "version": "3.9.17"
  }
 },
 "nbformat": 4,
 "nbformat_minor": 5
}
