{
 "cells": [
  {
   "cell_type": "markdown",
   "id": "c013ba95",
   "metadata": {},
   "source": [
    "[구명보트](https://school.programmers.co.kr/learn/courses/30/lessons/42885)"
   ]
  },
  {
   "cell_type": "code",
   "execution_count": null,
   "id": "3f0fced4",
   "metadata": {},
   "outputs": [],
   "source": []
  },
  {
   "cell_type": "code",
   "execution_count": null,
   "id": "dd7dfea2",
   "metadata": {},
   "outputs": [],
   "source": []
  },
  {
   "cell_type": "markdown",
   "id": "68b16cc9",
   "metadata": {},
   "source": [
    "[큰 수 만들기](https://school.programmers.co.kr/learn/courses/30/lessons/42883)"
   ]
  },
  {
   "cell_type": "code",
   "execution_count": null,
   "id": "0b4d008f",
   "metadata": {},
   "outputs": [],
   "source": []
  },
  {
   "cell_type": "code",
   "execution_count": null,
   "id": "031a95e2",
   "metadata": {},
   "outputs": [],
   "source": []
  },
  {
   "cell_type": "markdown",
   "id": "d540f381",
   "metadata": {},
   "source": [
    "[조이스틱](https://school.programmers.co.kr/learn/courses/30/lessons/42860)"
   ]
  },
  {
   "cell_type": "code",
   "execution_count": null,
   "id": "0de77ffe",
   "metadata": {},
   "outputs": [],
   "source": []
  },
  {
   "cell_type": "code",
   "execution_count": null,
   "id": "7eb46b47",
   "metadata": {},
   "outputs": [],
   "source": []
  },
  {
   "cell_type": "markdown",
   "id": "bcc622b6",
   "metadata": {},
   "source": [
    "[카펫](https://school.programmers.co.kr/learn/courses/30/lessons/42842)"
   ]
  },
  {
   "cell_type": "code",
   "execution_count": null,
   "id": "11539eb4",
   "metadata": {},
   "outputs": [],
   "source": []
  },
  {
   "cell_type": "code",
   "execution_count": null,
   "id": "53405a52",
   "metadata": {},
   "outputs": [],
   "source": []
  },
  {
   "cell_type": "markdown",
   "id": "15c9bf48",
   "metadata": {},
   "source": [
    "[소수 찾기](https://school.programmers.co.kr/learn/courses/30/lessons/42839)"
   ]
  },
  {
   "cell_type": "code",
   "execution_count": null,
   "id": "5d31697f",
   "metadata": {},
   "outputs": [],
   "source": []
  },
  {
   "cell_type": "code",
   "execution_count": null,
   "id": "29f2e1f1",
   "metadata": {},
   "outputs": [],
   "source": []
  }
 ],
 "metadata": {
  "kernelspec": {
   "display_name": "Python 3 (ipykernel)",
   "language": "python",
   "name": "python3"
  },
  "language_info": {
   "codemirror_mode": {
    "name": "ipython",
    "version": 3
   },
   "file_extension": ".py",
   "mimetype": "text/x-python",
   "name": "python",
   "nbconvert_exporter": "python",
   "pygments_lexer": "ipython3",
   "version": "3.9.17"
  }
 },
 "nbformat": 4,
 "nbformat_minor": 5
}
