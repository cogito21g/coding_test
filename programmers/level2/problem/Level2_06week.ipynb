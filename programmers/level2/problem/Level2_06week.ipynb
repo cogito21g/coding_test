{
 "cells": [
  {
   "cell_type": "markdown",
   "id": "3d6273f5",
   "metadata": {},
   "source": [
    "[우박수열 정적분](https://school.programmers.co.kr/learn/courses/30/lessons/134239)"
   ]
  },
  {
   "cell_type": "code",
   "execution_count": null,
   "id": "3795c2ed",
   "metadata": {},
   "outputs": [],
   "source": []
  },
  {
   "cell_type": "code",
   "execution_count": null,
   "id": "4e913158",
   "metadata": {},
   "outputs": [],
   "source": []
  },
  {
   "cell_type": "markdown",
   "id": "a6523060",
   "metadata": {},
   "source": [
    "[롤케이크 자르기](https://school.programmers.co.kr/learn/courses/30/lessons/132265)"
   ]
  },
  {
   "cell_type": "code",
   "execution_count": null,
   "id": "79101eca",
   "metadata": {},
   "outputs": [],
   "source": []
  },
  {
   "cell_type": "code",
   "execution_count": null,
   "id": "da923074",
   "metadata": {},
   "outputs": [],
   "source": []
  },
  {
   "cell_type": "markdown",
   "id": "2b7a25da",
   "metadata": {},
   "source": [
    "[택배상자](https://school.programmers.co.kr/learn/courses/30/lessons/131704)"
   ]
  },
  {
   "cell_type": "code",
   "execution_count": null,
   "id": "17b65851",
   "metadata": {},
   "outputs": [],
   "source": []
  },
  {
   "cell_type": "code",
   "execution_count": null,
   "id": "160b0500",
   "metadata": {},
   "outputs": [],
   "source": []
  },
  {
   "cell_type": "markdown",
   "id": "edbb098c",
   "metadata": {},
   "source": [
    "[연속 부분 수열 합의 개수](https://school.programmers.co.kr/learn/courses/30/lessons/131701)"
   ]
  },
  {
   "cell_type": "code",
   "execution_count": null,
   "id": "29dcbb5d",
   "metadata": {},
   "outputs": [],
   "source": []
  },
  {
   "cell_type": "code",
   "execution_count": null,
   "id": "39eb7736",
   "metadata": {},
   "outputs": [],
   "source": []
  },
  {
   "cell_type": "markdown",
   "id": "377b1c7a",
   "metadata": {},
   "source": [
    "[혼자 놀기의 달인](https://school.programmers.co.kr/learn/courses/30/lessons/131130)"
   ]
  },
  {
   "cell_type": "code",
   "execution_count": null,
   "id": "11c32791",
   "metadata": {},
   "outputs": [],
   "source": []
  },
  {
   "cell_type": "code",
   "execution_count": null,
   "id": "a140e46d",
   "metadata": {},
   "outputs": [],
   "source": []
  },
  {
   "cell_type": "markdown",
   "id": "46a28ac1",
   "metadata": {},
   "source": [
    "SQL: [성분으로 구분한 아이스크림 총 주문량](https://school.programmers.co.kr/learn/courses/30/lessons/133026)"
   ]
  },
  {
   "cell_type": "code",
   "execution_count": null,
   "id": "75a1bae6",
   "metadata": {},
   "outputs": [],
   "source": []
  },
  {
   "cell_type": "markdown",
   "id": "084ac265",
   "metadata": {},
   "source": [
    "SQL: [진료과별 총 예약 횟수 출력하기](https://school.programmers.co.kr/learn/courses/30/lessons/132202)"
   ]
  },
  {
   "cell_type": "code",
   "execution_count": null,
   "id": "68e190b8",
   "metadata": {},
   "outputs": [],
   "source": []
  },
  {
   "cell_type": "markdown",
   "id": "5f9084e1",
   "metadata": {},
   "source": [
    "SQL: [재구매가 일어난 상품과 회원 리스트 구하기](https://school.programmers.co.kr/learn/courses/30/lessons/131536)"
   ]
  },
  {
   "cell_type": "code",
   "execution_count": null,
   "id": "6dbfebfd",
   "metadata": {},
   "outputs": [],
   "source": []
  },
  {
   "cell_type": "markdown",
   "id": "2548cd4f",
   "metadata": {},
   "source": [
    "SQL: [상품 별 오프라인 매출 구하기](https://school.programmers.co.kr/learn/courses/30/lessons/131533)"
   ]
  },
  {
   "cell_type": "code",
   "execution_count": null,
   "id": "121de80b",
   "metadata": {},
   "outputs": [],
   "source": []
  },
  {
   "cell_type": "markdown",
   "id": "b21542dd",
   "metadata": {},
   "source": [
    "SQL: [가격대 별 상품 개수 구하기](https://school.programmers.co.kr/learn/courses/30/lessons/131530)"
   ]
  },
  {
   "cell_type": "code",
   "execution_count": null,
   "id": "237e2f19",
   "metadata": {},
   "outputs": [],
   "source": []
  },
  {
   "cell_type": "markdown",
   "id": "f2e3b70e",
   "metadata": {},
   "source": [
    "SQL: [카테고리 별 상품 개수 구하기](https://school.programmers.co.kr/learn/courses/30/lessons/131529)"
   ]
  },
  {
   "cell_type": "code",
   "execution_count": null,
   "id": "fd1e287b",
   "metadata": {},
   "outputs": [],
   "source": []
  },
  {
   "cell_type": "markdown",
   "id": "a02ea20f",
   "metadata": {},
   "source": [
    "SQL: []()"
   ]
  },
  {
   "cell_type": "code",
   "execution_count": null,
   "id": "64a189e3",
   "metadata": {},
   "outputs": [],
   "source": []
  }
 ],
 "metadata": {
  "kernelspec": {
   "display_name": "Python 3 (ipykernel)",
   "language": "python",
   "name": "python3"
  },
  "language_info": {
   "codemirror_mode": {
    "name": "ipython",
    "version": 3
   },
   "file_extension": ".py",
   "mimetype": "text/x-python",
   "name": "python",
   "nbconvert_exporter": "python",
   "pygments_lexer": "ipython3",
   "version": "3.9.17"
  }
 },
 "nbformat": 4,
 "nbformat_minor": 5
}
