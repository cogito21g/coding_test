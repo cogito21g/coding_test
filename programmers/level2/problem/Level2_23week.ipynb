{
 "cells": [
  {
   "cell_type": "markdown",
   "id": "0f3cfee0",
   "metadata": {},
   "source": [
    "[게임 맵 최단거리](https://school.programmers.co.kr/learn/courses/30/lessons/1844)"
   ]
  },
  {
   "cell_type": "code",
   "execution_count": null,
   "id": "f4fd1700",
   "metadata": {},
   "outputs": [],
   "source": []
  },
  {
   "cell_type": "code",
   "execution_count": null,
   "id": "afffb16c",
   "metadata": {},
   "outputs": [],
   "source": []
  },
  {
   "cell_type": "markdown",
   "id": "feadb86a",
   "metadata": {},
   "source": [
    "[단체사진 찍기](https://school.programmers.co.kr/learn/courses/30/lessons/1835)"
   ]
  },
  {
   "cell_type": "code",
   "execution_count": null,
   "id": "63d1ef66",
   "metadata": {},
   "outputs": [],
   "source": []
  },
  {
   "cell_type": "code",
   "execution_count": null,
   "id": "4f5f4746",
   "metadata": {},
   "outputs": [],
   "source": []
  },
  {
   "cell_type": "markdown",
   "id": "9ad8e121",
   "metadata": {},
   "source": [
    "[카카오프렌즈 컬러링북](https://school.programmers.co.kr/learn/courses/30/lessons/1829)"
   ]
  },
  {
   "cell_type": "code",
   "execution_count": null,
   "id": "2870186d",
   "metadata": {},
   "outputs": [],
   "source": []
  },
  {
   "cell_type": "code",
   "execution_count": null,
   "id": "22d4df65",
   "metadata": {},
   "outputs": [],
   "source": []
  }
 ],
 "metadata": {
  "kernelspec": {
   "display_name": "Python 3 (ipykernel)",
   "language": "python",
   "name": "python3"
  },
  "language_info": {
   "codemirror_mode": {
    "name": "ipython",
    "version": 3
   },
   "file_extension": ".py",
   "mimetype": "text/x-python",
   "name": "python",
   "nbconvert_exporter": "python",
   "pygments_lexer": "ipython3",
   "version": "3.9.17"
  }
 },
 "nbformat": 4,
 "nbformat_minor": 5
}
