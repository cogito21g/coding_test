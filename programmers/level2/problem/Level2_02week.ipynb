{
 "cells": [
  {
   "cell_type": "markdown",
   "id": "68b97029",
   "metadata": {},
   "source": [
    "[과제 진행하기](https://school.programmers.co.kr/learn/courses/30/lessons/176962)"
   ]
  },
  {
   "cell_type": "code",
   "execution_count": null,
   "id": "492ed996",
   "metadata": {},
   "outputs": [],
   "source": []
  },
  {
   "cell_type": "code",
   "execution_count": null,
   "id": "afe68b9e",
   "metadata": {},
   "outputs": [],
   "source": [
    "# test_case\n"
   ]
  },
  {
   "cell_type": "markdown",
   "id": "a57dcc84",
   "metadata": {},
   "source": [
    "[광물 캐기](https://school.programmers.co.kr/learn/courses/30/lessons/172927)"
   ]
  },
  {
   "cell_type": "code",
   "execution_count": null,
   "id": "d0463a61",
   "metadata": {},
   "outputs": [],
   "source": []
  },
  {
   "cell_type": "code",
   "execution_count": null,
   "id": "f7de759b",
   "metadata": {},
   "outputs": [],
   "source": [
    "# test_case\n"
   ]
  },
  {
   "cell_type": "markdown",
   "id": "01c8361a",
   "metadata": {},
   "source": [
    "[리코쳇 로봇](https://school.programmers.co.kr/learn/courses/30/lessons/169199)"
   ]
  },
  {
   "cell_type": "code",
   "execution_count": null,
   "id": "d0de51d5",
   "metadata": {},
   "outputs": [],
   "source": []
  },
  {
   "cell_type": "code",
   "execution_count": null,
   "id": "0033dcff",
   "metadata": {},
   "outputs": [],
   "source": [
    "# test_case\n"
   ]
  },
  {
   "cell_type": "markdown",
   "id": "6b7df530",
   "metadata": {},
   "source": [
    "[당구 연습](https://school.programmers.co.kr/learn/courses/30/lessons/169198)"
   ]
  },
  {
   "cell_type": "code",
   "execution_count": null,
   "id": "d7c87860",
   "metadata": {},
   "outputs": [],
   "source": []
  },
  {
   "cell_type": "code",
   "execution_count": null,
   "id": "e289ebd1",
   "metadata": {},
   "outputs": [],
   "source": [
    "# test_case\n"
   ]
  },
  {
   "cell_type": "markdown",
   "id": "3bad96e6",
   "metadata": {},
   "source": [
    "[혼자서 하는 틱택토](https://school.programmers.co.kr/learn/courses/30/lessons/160585)"
   ]
  },
  {
   "cell_type": "code",
   "execution_count": null,
   "id": "a18a6f91",
   "metadata": {},
   "outputs": [],
   "source": []
  },
  {
   "cell_type": "code",
   "execution_count": null,
   "id": "002e75cd",
   "metadata": {},
   "outputs": [],
   "source": [
    "# test_case\n"
   ]
  },
  {
   "cell_type": "markdown",
   "id": "090187d5",
   "metadata": {},
   "source": [
    "SQL: [조건에 부합하는 중고거래 상태 조회하기](https://school.programmers.co.kr/learn/courses/30/lessons/164672)"
   ]
  },
  {
   "cell_type": "code",
   "execution_count": null,
   "id": "2d293ba0",
   "metadata": {},
   "outputs": [],
   "source": []
  }
 ],
 "metadata": {
  "kernelspec": {
   "display_name": "Python 3 (ipykernel)",
   "language": "python",
   "name": "python3"
  },
  "language_info": {
   "codemirror_mode": {
    "name": "ipython",
    "version": 3
   },
   "file_extension": ".py",
   "mimetype": "text/x-python",
   "name": "python",
   "nbconvert_exporter": "python",
   "pygments_lexer": "ipython3",
   "version": "3.9.17"
  }
 },
 "nbformat": 4,
 "nbformat_minor": 5
}
