{
 "cells": [
  {
   "cell_type": "markdown",
   "id": "da7ee3d0",
   "metadata": {},
   "source": [
    "[[카카오 인턴] 수식 최대화](https://school.programmers.co.kr/learn/courses/30/lessons/67257)"
   ]
  },
  {
   "cell_type": "code",
   "execution_count": null,
   "id": "6d94d356",
   "metadata": {},
   "outputs": [],
   "source": []
  },
  {
   "cell_type": "code",
   "execution_count": null,
   "id": "9e9ce3ce",
   "metadata": {},
   "outputs": [],
   "source": []
  },
  {
   "cell_type": "markdown",
   "id": "3dbcb4a6",
   "metadata": {},
   "source": [
    "[튜플](https://school.programmers.co.kr/learn/courses/30/lessons/64065)"
   ]
  },
  {
   "cell_type": "code",
   "execution_count": null,
   "id": "a4818764",
   "metadata": {},
   "outputs": [],
   "source": []
  },
  {
   "cell_type": "code",
   "execution_count": null,
   "id": "3370bc22",
   "metadata": {},
   "outputs": [],
   "source": []
  },
  {
   "cell_type": "markdown",
   "id": "3f68b85d",
   "metadata": {},
   "source": [
    "[멀쩡한 사각형](https://school.programmers.co.kr/learn/courses/30/lessons/62048)"
   ]
  },
  {
   "cell_type": "code",
   "execution_count": null,
   "id": "b22dbfbb",
   "metadata": {},
   "outputs": [],
   "source": []
  },
  {
   "cell_type": "code",
   "execution_count": null,
   "id": "08807465",
   "metadata": {},
   "outputs": [],
   "source": []
  },
  {
   "cell_type": "markdown",
   "id": "e256f039",
   "metadata": {},
   "source": [
    "[괄호 변환](https://school.programmers.co.kr/learn/courses/30/lessons/60058)"
   ]
  },
  {
   "cell_type": "code",
   "execution_count": null,
   "id": "c9d1aa75",
   "metadata": {},
   "outputs": [],
   "source": []
  },
  {
   "cell_type": "code",
   "execution_count": null,
   "id": "f9025d41",
   "metadata": {},
   "outputs": [],
   "source": []
  },
  {
   "cell_type": "markdown",
   "id": "a40c01e4",
   "metadata": {},
   "source": [
    "[문자열 압축](https://school.programmers.co.kr/learn/courses/30/lessons/60057)"
   ]
  },
  {
   "cell_type": "code",
   "execution_count": null,
   "id": "29daf0ac",
   "metadata": {},
   "outputs": [],
   "source": []
  },
  {
   "cell_type": "code",
   "execution_count": null,
   "id": "25d97a4e",
   "metadata": {},
   "outputs": [],
   "source": []
  }
 ],
 "metadata": {
  "kernelspec": {
   "display_name": "Python 3 (ipykernel)",
   "language": "python",
   "name": "python3"
  },
  "language_info": {
   "codemirror_mode": {
    "name": "ipython",
    "version": 3
   },
   "file_extension": ".py",
   "mimetype": "text/x-python",
   "name": "python",
   "nbconvert_exporter": "python",
   "pygments_lexer": "ipython3",
   "version": "3.9.17"
  }
 },
 "nbformat": 4,
 "nbformat_minor": 5
}
