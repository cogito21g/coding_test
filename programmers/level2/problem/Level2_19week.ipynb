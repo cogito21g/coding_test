{
 "cells": [
  {
   "cell_type": "markdown",
   "id": "2737ea66",
   "metadata": {},
   "source": [
    "[짝지어 제거하기](https://school.programmers.co.kr/learn/courses/30/lessons/12973)"
   ]
  },
  {
   "cell_type": "code",
   "execution_count": null,
   "id": "1daa5bd0",
   "metadata": {},
   "outputs": [],
   "source": []
  },
  {
   "cell_type": "code",
   "execution_count": null,
   "id": "b9bc40f2",
   "metadata": {},
   "outputs": [],
   "source": []
  },
  {
   "cell_type": "markdown",
   "id": "15aa17bc",
   "metadata": {},
   "source": [
    "[N개의 최소공배수](https://school.programmers.co.kr/learn/courses/30/lessons/12953)"
   ]
  },
  {
   "cell_type": "code",
   "execution_count": null,
   "id": "244549d4",
   "metadata": {},
   "outputs": [],
   "source": []
  },
  {
   "cell_type": "code",
   "execution_count": null,
   "id": "d3d0e8d6",
   "metadata": {},
   "outputs": [],
   "source": []
  },
  {
   "cell_type": "markdown",
   "id": "25871897",
   "metadata": {},
   "source": [
    "[N-Queen](https://school.programmers.co.kr/learn/courses/30/lessons/12952)"
   ]
  },
  {
   "cell_type": "code",
   "execution_count": null,
   "id": "c9b72c8c",
   "metadata": {},
   "outputs": [],
   "source": []
  },
  {
   "cell_type": "code",
   "execution_count": null,
   "id": "02b3805d",
   "metadata": {},
   "outputs": [],
   "source": []
  },
  {
   "cell_type": "markdown",
   "id": "b8526323",
   "metadata": {},
   "source": [
    "[JadenCase 문자열 만들기](https://school.programmers.co.kr/learn/courses/30/lessons/12951)"
   ]
  },
  {
   "cell_type": "code",
   "execution_count": null,
   "id": "0683178f",
   "metadata": {},
   "outputs": [],
   "source": []
  },
  {
   "cell_type": "code",
   "execution_count": null,
   "id": "b5f0ca72",
   "metadata": {},
   "outputs": [],
   "source": []
  },
  {
   "cell_type": "markdown",
   "id": "1d6c93cf",
   "metadata": {},
   "source": [
    "[행렬의 곱셈](https://school.programmers.co.kr/learn/courses/30/lessons/12949)"
   ]
  },
  {
   "cell_type": "code",
   "execution_count": null,
   "id": "6904e474",
   "metadata": {},
   "outputs": [],
   "source": []
  },
  {
   "cell_type": "code",
   "execution_count": null,
   "id": "92ae86dc",
   "metadata": {},
   "outputs": [],
   "source": []
  }
 ],
 "metadata": {
  "kernelspec": {
   "display_name": "Python 3 (ipykernel)",
   "language": "python",
   "name": "python3"
  },
  "language_info": {
   "codemirror_mode": {
    "name": "ipython",
    "version": 3
   },
   "file_extension": ".py",
   "mimetype": "text/x-python",
   "name": "python",
   "nbconvert_exporter": "python",
   "pygments_lexer": "ipython3",
   "version": "3.9.17"
  }
 },
 "nbformat": 4,
 "nbformat_minor": 5
}
