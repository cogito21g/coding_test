{
 "cells": [
  {
   "cell_type": "markdown",
   "id": "db225627",
   "metadata": {},
   "source": [
    "[피로도](https://school.programmers.co.kr/learn/courses/30/lessons/87946)"
   ]
  },
  {
   "cell_type": "code",
   "execution_count": null,
   "id": "7551a36d",
   "metadata": {},
   "outputs": [],
   "source": []
  },
  {
   "cell_type": "code",
   "execution_count": null,
   "id": "b8c38dcb",
   "metadata": {},
   "outputs": [],
   "source": []
  },
  {
   "cell_type": "markdown",
   "id": "3c402395",
   "metadata": {},
   "source": [
    "[n^2 배열 자르기](https://school.programmers.co.kr/learn/courses/30/lessons/87390)"
   ]
  },
  {
   "cell_type": "code",
   "execution_count": null,
   "id": "e4e772cc",
   "metadata": {},
   "outputs": [],
   "source": []
  },
  {
   "cell_type": "code",
   "execution_count": null,
   "id": "d0e21ce6",
   "metadata": {},
   "outputs": [],
   "source": []
  },
  {
   "cell_type": "markdown",
   "id": "90019ac4",
   "metadata": {},
   "source": [
    "[교점에 별 만들기](https://school.programmers.co.kr/learn/courses/30/lessons/87377)"
   ]
  },
  {
   "cell_type": "code",
   "execution_count": null,
   "id": "671491e9",
   "metadata": {},
   "outputs": [],
   "source": []
  },
  {
   "cell_type": "code",
   "execution_count": null,
   "id": "108c1255",
   "metadata": {},
   "outputs": [],
   "source": []
  },
  {
   "cell_type": "markdown",
   "id": "7f62bdc0",
   "metadata": {},
   "source": [
    "[전력망을 둘로 나누기](https://school.programmers.co.kr/learn/courses/30/lessons/86971)"
   ]
  },
  {
   "cell_type": "code",
   "execution_count": null,
   "id": "afcc07da",
   "metadata": {},
   "outputs": [],
   "source": []
  },
  {
   "cell_type": "code",
   "execution_count": null,
   "id": "f82d7f96",
   "metadata": {},
   "outputs": [],
   "source": []
  },
  {
   "cell_type": "markdown",
   "id": "43c21f11",
   "metadata": {},
   "source": [
    "[빛의 경로 사이클](https://school.programmers.co.kr/learn/courses/30/lessons/86052)"
   ]
  },
  {
   "cell_type": "code",
   "execution_count": null,
   "id": "5fc514a2",
   "metadata": {},
   "outputs": [],
   "source": []
  },
  {
   "cell_type": "code",
   "execution_count": null,
   "id": "7429103e",
   "metadata": {},
   "outputs": [],
   "source": []
  }
 ],
 "metadata": {
  "kernelspec": {
   "display_name": "Python 3 (ipykernel)",
   "language": "python",
   "name": "python3"
  },
  "language_info": {
   "codemirror_mode": {
    "name": "ipython",
    "version": 3
   },
   "file_extension": ".py",
   "mimetype": "text/x-python",
   "name": "python",
   "nbconvert_exporter": "python",
   "pygments_lexer": "ipython3",
   "version": "3.9.17"
  }
 },
 "nbformat": 4,
 "nbformat_minor": 5
}
