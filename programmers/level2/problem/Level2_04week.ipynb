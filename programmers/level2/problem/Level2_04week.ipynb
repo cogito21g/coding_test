{
 "cells": [
  {
   "cell_type": "markdown",
   "id": "6317f186",
   "metadata": {},
   "source": [
    "[시소 짝꿍](https://school.programmers.co.kr/learn/courses/30/lessons/152996)"
   ]
  },
  {
   "cell_type": "code",
   "execution_count": null,
   "id": "e7b43a27",
   "metadata": {},
   "outputs": [],
   "source": []
  },
  {
   "cell_type": "code",
   "execution_count": null,
   "id": "ae2d1615",
   "metadata": {},
   "outputs": [],
   "source": []
  },
  {
   "cell_type": "markdown",
   "id": "e45a408f",
   "metadata": {},
   "source": [
    "[택배 배달과 수거하기](https://school.programmers.co.kr/learn/courses/30/lessons/150369)"
   ]
  },
  {
   "cell_type": "code",
   "execution_count": null,
   "id": "819c69fb",
   "metadata": {},
   "outputs": [],
   "source": []
  },
  {
   "cell_type": "code",
   "execution_count": null,
   "id": "3076191a",
   "metadata": {},
   "outputs": [],
   "source": []
  },
  {
   "cell_type": "markdown",
   "id": "829d6cd9",
   "metadata": {},
   "source": [
    "[이모티콘 할인행사](https://school.programmers.co.kr/learn/courses/30/lessons/150368)"
   ]
  },
  {
   "cell_type": "code",
   "execution_count": null,
   "id": "18405b71",
   "metadata": {},
   "outputs": [],
   "source": []
  },
  {
   "cell_type": "code",
   "execution_count": null,
   "id": "f52a2d52",
   "metadata": {},
   "outputs": [],
   "source": []
  },
  {
   "cell_type": "markdown",
   "id": "23b615e8",
   "metadata": {},
   "source": [
    "[마법의 엘리베이터](https://school.programmers.co.kr/learn/courses/30/lessons/148653)"
   ]
  },
  {
   "cell_type": "code",
   "execution_count": null,
   "id": "7a376773",
   "metadata": {},
   "outputs": [],
   "source": []
  },
  {
   "cell_type": "code",
   "execution_count": null,
   "id": "f02b193a",
   "metadata": {},
   "outputs": [],
   "source": []
  },
  {
   "cell_type": "markdown",
   "id": "e68ebd28",
   "metadata": {},
   "source": [
    "[유사 칸토어 비트열](https://school.programmers.co.kr/learn/courses/30/lessons/148652)"
   ]
  },
  {
   "cell_type": "code",
   "execution_count": null,
   "id": "3010165a",
   "metadata": {},
   "outputs": [],
   "source": []
  },
  {
   "cell_type": "code",
   "execution_count": null,
   "id": "36c811f1",
   "metadata": {},
   "outputs": [],
   "source": []
  },
  {
   "cell_type": "markdown",
   "id": "a42b51d9",
   "metadata": {},
   "source": [
    "SQL: [자동차 종류 별 특정 옵션이 포함된 자동차 수 구하기](https://school.programmers.co.kr/learn/courses/30/lessons/151137)"
   ]
  },
  {
   "cell_type": "code",
   "execution_count": null,
   "id": "f70a31d1",
   "metadata": {},
   "outputs": [],
   "source": []
  }
 ],
 "metadata": {
  "kernelspec": {
   "display_name": "Python 3 (ipykernel)",
   "language": "python",
   "name": "python3"
  },
  "language_info": {
   "codemirror_mode": {
    "name": "ipython",
    "version": 3
   },
   "file_extension": ".py",
   "mimetype": "text/x-python",
   "name": "python",
   "nbconvert_exporter": "python",
   "pygments_lexer": "ipython3",
   "version": "3.9.17"
  }
 },
 "nbformat": 4,
 "nbformat_minor": 5
}
