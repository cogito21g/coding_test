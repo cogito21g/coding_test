{
 "cells": [
  {
   "cell_type": "markdown",
   "id": "478c8f0c",
   "metadata": {},
   "source": [
    "[선입 선출 스케줄링](https://school.programmers.co.kr/learn/courses/30/lessons/12920)"
   ]
  },
  {
   "cell_type": "code",
   "execution_count": null,
   "id": "430a283c",
   "metadata": {},
   "outputs": [],
   "source": []
  },
  {
   "cell_type": "code",
   "execution_count": null,
   "id": "c536629e",
   "metadata": {},
   "outputs": [],
   "source": []
  },
  {
   "cell_type": "markdown",
   "id": "1f5a3526",
   "metadata": {},
   "source": [
    "[거스름돈](https://school.programmers.co.kr/learn/courses/30/lessons/12907)"
   ]
  },
  {
   "cell_type": "code",
   "execution_count": null,
   "id": "0229dbf8",
   "metadata": {},
   "outputs": [],
   "source": []
  },
  {
   "cell_type": "code",
   "execution_count": null,
   "id": "313edae0",
   "metadata": {},
   "outputs": [],
   "source": []
  },
  {
   "cell_type": "markdown",
   "id": "2152939c",
   "metadata": {},
   "source": [
    "[가장 긴 팰린드롬](https://school.programmers.co.kr/learn/courses/30/lessons/12904)"
   ]
  },
  {
   "cell_type": "code",
   "execution_count": null,
   "id": "66ced230",
   "metadata": {},
   "outputs": [],
   "source": []
  },
  {
   "cell_type": "code",
   "execution_count": null,
   "id": "785216d6",
   "metadata": {},
   "outputs": [],
   "source": []
  }
 ],
 "metadata": {
  "kernelspec": {
   "display_name": "Python 3 (ipykernel)",
   "language": "python",
   "name": "python3"
  },
  "language_info": {
   "codemirror_mode": {
    "name": "ipython",
    "version": 3
   },
   "file_extension": ".py",
   "mimetype": "text/x-python",
   "name": "python",
   "nbconvert_exporter": "python",
   "pygments_lexer": "ipython3",
   "version": "3.9.17"
  }
 },
 "nbformat": 4,
 "nbformat_minor": 5
}
