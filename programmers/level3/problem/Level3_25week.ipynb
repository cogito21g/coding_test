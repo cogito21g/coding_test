{
 "cells": [
  {
   "cell_type": "markdown",
   "id": "9e0838ec",
   "metadata": {},
   "source": [
    "[캠핑](https://school.programmers.co.kr/learn/courses/30/lessons/1833)"
   ]
  },
  {
   "cell_type": "code",
   "execution_count": null,
   "id": "287d88b8",
   "metadata": {},
   "outputs": [],
   "source": []
  },
  {
   "cell_type": "code",
   "execution_count": null,
   "id": "95886dd1",
   "metadata": {},
   "outputs": [],
   "source": []
  },
  {
   "cell_type": "markdown",
   "id": "2808c56e",
   "metadata": {},
   "source": [
    "[보행자 천국](https://school.programmers.co.kr/learn/courses/30/lessons/1832)"
   ]
  },
  {
   "cell_type": "code",
   "execution_count": null,
   "id": "7ae04190",
   "metadata": {},
   "outputs": [],
   "source": []
  },
  {
   "cell_type": "code",
   "execution_count": null,
   "id": "837cd4f8",
   "metadata": {},
   "outputs": [],
   "source": []
  },
  {
   "cell_type": "markdown",
   "id": "ccdce72b",
   "metadata": {},
   "source": [
    "[브라이언의 고민](https://school.programmers.co.kr/learn/courses/30/lessons/1830)"
   ]
  },
  {
   "cell_type": "code",
   "execution_count": null,
   "id": "d5d57996",
   "metadata": {},
   "outputs": [],
   "source": []
  },
  {
   "cell_type": "code",
   "execution_count": null,
   "id": "5d009d35",
   "metadata": {},
   "outputs": [],
   "source": []
  }
 ],
 "metadata": {
  "kernelspec": {
   "display_name": "Python 3 (ipykernel)",
   "language": "python",
   "name": "python3"
  },
  "language_info": {
   "codemirror_mode": {
    "name": "ipython",
    "version": 3
   },
   "file_extension": ".py",
   "mimetype": "text/x-python",
   "name": "python",
   "nbconvert_exporter": "python",
   "pygments_lexer": "ipython3",
   "version": "3.9.17"
  }
 },
 "nbformat": 4,
 "nbformat_minor": 5
}
