{
 "cells": [
  {
   "cell_type": "markdown",
   "id": "0332dc73",
   "metadata": {},
   "source": [
    "[숫자 게임](https://school.programmers.co.kr/learn/courses/30/lessons/12987)"
   ]
  },
  {
   "cell_type": "code",
   "execution_count": null,
   "id": "a12746a6",
   "metadata": {},
   "outputs": [],
   "source": []
  },
  {
   "cell_type": "code",
   "execution_count": null,
   "id": "b4b79b99",
   "metadata": {},
   "outputs": [],
   "source": []
  },
  {
   "cell_type": "markdown",
   "id": "e5fefe8d",
   "metadata": {},
   "source": [
    "[기지국 설치](https://school.programmers.co.kr/learn/courses/30/lessons/12979)"
   ]
  },
  {
   "cell_type": "code",
   "execution_count": null,
   "id": "a815821f",
   "metadata": {},
   "outputs": [],
   "source": []
  },
  {
   "cell_type": "code",
   "execution_count": null,
   "id": "6c5d4afd",
   "metadata": {},
   "outputs": [],
   "source": []
  },
  {
   "cell_type": "markdown",
   "id": "9a9e4d8a",
   "metadata": {},
   "source": [
    "[스티커 모으기(2)](https://school.programmers.co.kr/learn/courses/30/lessons/12971)"
   ]
  },
  {
   "cell_type": "code",
   "execution_count": null,
   "id": "9ef392eb",
   "metadata": {},
   "outputs": [],
   "source": []
  },
  {
   "cell_type": "code",
   "execution_count": null,
   "id": "d141ac8e",
   "metadata": {},
   "outputs": [],
   "source": []
  }
 ],
 "metadata": {
  "kernelspec": {
   "display_name": "Python 3 (ipykernel)",
   "language": "python",
   "name": "python3"
  },
  "language_info": {
   "codemirror_mode": {
    "name": "ipython",
    "version": 3
   },
   "file_extension": ".py",
   "mimetype": "text/x-python",
   "name": "python",
   "nbconvert_exporter": "python",
   "pygments_lexer": "ipython3",
   "version": "3.9.17"
  }
 },
 "nbformat": 4,
 "nbformat_minor": 5
}
