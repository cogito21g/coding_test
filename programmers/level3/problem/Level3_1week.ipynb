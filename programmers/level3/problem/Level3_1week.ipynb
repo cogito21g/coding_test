{
 "cells": [
  {
   "cell_type": "markdown",
   "id": "7a016fe5",
   "metadata": {},
   "source": [
    "[[PCCP 기출문제] 4번 / 수레 움직이기](https://school.programmers.co.kr/learn/courses/30/lessons/250134)"
   ]
  },
  {
   "cell_type": "code",
   "execution_count": null,
   "id": "addee609",
   "metadata": {},
   "outputs": [],
   "source": []
  },
  {
   "cell_type": "code",
   "execution_count": null,
   "id": "c4c9b27f",
   "metadata": {},
   "outputs": [],
   "source": []
  },
  {
   "cell_type": "markdown",
   "id": "4dd30836",
   "metadata": {},
   "source": [
    "[에어컨](https://school.programmers.co.kr/learn/courses/30/lessons/214289)"
   ]
  },
  {
   "cell_type": "code",
   "execution_count": null,
   "id": "35e4d06a",
   "metadata": {},
   "outputs": [],
   "source": []
  },
  {
   "cell_type": "code",
   "execution_count": null,
   "id": "a50ee4bb",
   "metadata": {},
   "outputs": [],
   "source": []
  },
  {
   "cell_type": "markdown",
   "id": "fae27a24",
   "metadata": {},
   "source": [
    "[상담원 인원](https://school.programmers.co.kr/learn/courses/30/lessons/214288)"
   ]
  },
  {
   "cell_type": "code",
   "execution_count": null,
   "id": "01b9676e",
   "metadata": {},
   "outputs": [],
   "source": []
  },
  {
   "cell_type": "code",
   "execution_count": null,
   "id": "8352843a",
   "metadata": {},
   "outputs": [],
   "source": []
  }
 ],
 "metadata": {
  "kernelspec": {
   "display_name": "Python 3 (ipykernel)",
   "language": "python",
   "name": "python3"
  },
  "language_info": {
   "codemirror_mode": {
    "name": "ipython",
    "version": 3
   },
   "file_extension": ".py",
   "mimetype": "text/x-python",
   "name": "python",
   "nbconvert_exporter": "python",
   "pygments_lexer": "ipython3",
   "version": "3.9.17"
  }
 },
 "nbformat": 4,
 "nbformat_minor": 5
}
