{
 "cells": [
  {
   "cell_type": "markdown",
   "id": "bcb2a505",
   "metadata": {},
   "source": [
    "[몸짱 트레이너 라이언의 고민](https://school.programmers.co.kr/learn/courses/30/lessons/1838)"
   ]
  },
  {
   "cell_type": "code",
   "execution_count": null,
   "id": "38ff291b",
   "metadata": {},
   "outputs": [],
   "source": []
  },
  {
   "cell_type": "code",
   "execution_count": null,
   "id": "2c6cdc2a",
   "metadata": {},
   "outputs": [],
   "source": []
  },
  {
   "cell_type": "markdown",
   "id": "e20195a3",
   "metadata": {},
   "source": [
    "[GPS](https://school.programmers.co.kr/learn/courses/30/lessons/1837)"
   ]
  },
  {
   "cell_type": "code",
   "execution_count": null,
   "id": "a84f86e8",
   "metadata": {},
   "outputs": [],
   "source": []
  },
  {
   "cell_type": "code",
   "execution_count": null,
   "id": "abe799f5",
   "metadata": {},
   "outputs": [],
   "source": []
  },
  {
   "cell_type": "markdown",
   "id": "04a6cc96",
   "metadata": {},
   "source": [
    "[리틀 프렌즈 사천성](https://school.programmers.co.kr/learn/courses/30/lessons/1836)"
   ]
  },
  {
   "cell_type": "code",
   "execution_count": null,
   "id": "9e38debb",
   "metadata": {},
   "outputs": [],
   "source": []
  },
  {
   "cell_type": "code",
   "execution_count": null,
   "id": "dbb44f7a",
   "metadata": {},
   "outputs": [],
   "source": []
  }
 ],
 "metadata": {
  "kernelspec": {
   "display_name": "Python 3 (ipykernel)",
   "language": "python",
   "name": "python3"
  },
  "language_info": {
   "codemirror_mode": {
    "name": "ipython",
    "version": 3
   },
   "file_extension": ".py",
   "mimetype": "text/x-python",
   "name": "python",
   "nbconvert_exporter": "python",
   "pygments_lexer": "ipython3",
   "version": "3.9.17"
  }
 },
 "nbformat": 4,
 "nbformat_minor": 5
}
