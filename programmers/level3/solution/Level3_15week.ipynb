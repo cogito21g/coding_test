{
 "cells": [
  {
   "cell_type": "markdown",
   "id": "bc014cde",
   "metadata": {},
   "source": [
    "[순위](https://school.programmers.co.kr/learn/courses/30/lessons/49191)"
   ]
  },
  {
   "cell_type": "code",
   "execution_count": null,
   "id": "f97c5a31",
   "metadata": {},
   "outputs": [],
   "source": []
  },
  {
   "cell_type": "code",
   "execution_count": null,
   "id": "d25aa07d",
   "metadata": {},
   "outputs": [],
   "source": []
  },
  {
   "cell_type": "markdown",
   "id": "4de2c397",
   "metadata": {},
   "source": [
    "[가장 먼 노드](https://school.programmers.co.kr/learn/courses/30/lessons/49189)"
   ]
  },
  {
   "cell_type": "code",
   "execution_count": null,
   "id": "596acf75",
   "metadata": {},
   "outputs": [],
   "source": []
  },
  {
   "cell_type": "code",
   "execution_count": null,
   "id": "44ea9643",
   "metadata": {},
   "outputs": [],
   "source": []
  },
  {
   "cell_type": "markdown",
   "id": "b5f1aa5e",
   "metadata": {},
   "source": [
    "[입국심사](https://school.programmers.co.kr/learn/courses/30/lessons/43238)"
   ]
  },
  {
   "cell_type": "code",
   "execution_count": null,
   "id": "805efa4e",
   "metadata": {},
   "outputs": [],
   "source": []
  },
  {
   "cell_type": "code",
   "execution_count": null,
   "id": "7df03fe0",
   "metadata": {},
   "outputs": [],
   "source": []
  },
  {
   "cell_type": "markdown",
   "id": "3044d576",
   "metadata": {},
   "source": [
    "SQL: [오랜 기간 보호한 동물(2)](https://school.programmers.co.kr/learn/courses/30/lessons/59411)"
   ]
  },
  {
   "cell_type": "code",
   "execution_count": null,
   "id": "730e1c0e",
   "metadata": {},
   "outputs": [],
   "source": []
  },
  {
   "cell_type": "markdown",
   "id": "cfcec17b",
   "metadata": {},
   "source": [
    "SQL: [오랜 기간 보호한 동물(1)](https://school.programmers.co.kr/learn/courses/30/lessons/59044)"
   ]
  },
  {
   "cell_type": "code",
   "execution_count": null,
   "id": "25e1d744",
   "metadata": {},
   "outputs": [],
   "source": []
  },
  {
   "cell_type": "markdown",
   "id": "9f7c36ca",
   "metadata": {},
   "source": [
    "SQL: [있었는데요 없었습니다](https://school.programmers.co.kr/learn/courses/30/lessons/59043)"
   ]
  },
  {
   "cell_type": "code",
   "execution_count": null,
   "id": "d4abdfe8",
   "metadata": {},
   "outputs": [],
   "source": []
  },
  {
   "cell_type": "markdown",
   "id": "b463ac7a",
   "metadata": {},
   "source": [
    "SQL: [없어진 기록 찾기](https://school.programmers.co.kr/learn/courses/30/lessons/59042)"
   ]
  },
  {
   "cell_type": "code",
   "execution_count": null,
   "id": "417e938a",
   "metadata": {},
   "outputs": [],
   "source": []
  }
 ],
 "metadata": {
  "kernelspec": {
   "display_name": "Python 3 (ipykernel)",
   "language": "python",
   "name": "python3"
  },
  "language_info": {
   "codemirror_mode": {
    "name": "ipython",
    "version": 3
   },
   "file_extension": ".py",
   "mimetype": "text/x-python",
   "name": "python",
   "nbconvert_exporter": "python",
   "pygments_lexer": "ipython3",
   "version": "3.9.17"
  }
 },
 "nbformat": 4,
 "nbformat_minor": 5
}
