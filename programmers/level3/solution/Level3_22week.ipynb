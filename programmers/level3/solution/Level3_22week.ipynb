{
 "cells": [
  {
   "cell_type": "markdown",
   "id": "a71c1f47",
   "metadata": {},
   "source": [
    "[최적의 행렬 곱셈](https://school.programmers.co.kr/learn/courses/30/lessons/12942)"
   ]
  },
  {
   "cell_type": "code",
   "execution_count": null,
   "id": "64d1e644",
   "metadata": {},
   "outputs": [],
   "source": []
  },
  {
   "cell_type": "code",
   "execution_count": null,
   "id": "fab1a165",
   "metadata": {},
   "outputs": [],
   "source": []
  },
  {
   "cell_type": "markdown",
   "id": "31854e04",
   "metadata": {},
   "source": [
    "[최고의 집합](https://school.programmers.co.kr/learn/courses/30/lessons/12938)"
   ]
  },
  {
   "cell_type": "code",
   "execution_count": null,
   "id": "f692da11",
   "metadata": {},
   "outputs": [],
   "source": []
  },
  {
   "cell_type": "code",
   "execution_count": null,
   "id": "974373aa",
   "metadata": {},
   "outputs": [],
   "source": []
  },
  {
   "cell_type": "markdown",
   "id": "7cdfac26",
   "metadata": {},
   "source": [
    "[야근 지수](https://school.programmers.co.kr/learn/courses/30/lessons/12927)"
   ]
  },
  {
   "cell_type": "code",
   "execution_count": null,
   "id": "9e6e1a54",
   "metadata": {},
   "outputs": [],
   "source": []
  },
  {
   "cell_type": "code",
   "execution_count": null,
   "id": "1d57c8d5",
   "metadata": {},
   "outputs": [],
   "source": []
  }
 ],
 "metadata": {
  "kernelspec": {
   "display_name": "Python 3 (ipykernel)",
   "language": "python",
   "name": "python3"
  },
  "language_info": {
   "codemirror_mode": {
    "name": "ipython",
    "version": 3
   },
   "file_extension": ".py",
   "mimetype": "text/x-python",
   "name": "python",
   "nbconvert_exporter": "python",
   "pygments_lexer": "ipython3",
   "version": "3.9.17"
  }
 },
 "nbformat": 4,
 "nbformat_minor": 5
}
