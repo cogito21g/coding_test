{
 "cells": [
  {
   "cell_type": "markdown",
   "id": "bc014cde",
   "metadata": {},
   "source": [
    "[정수 삼각형](https://school.programmers.co.kr/learn/courses/30/lessons/43105)"
   ]
  },
  {
   "cell_type": "code",
   "execution_count": null,
   "id": "f97c5a31",
   "metadata": {},
   "outputs": [],
   "source": []
  },
  {
   "cell_type": "code",
   "execution_count": null,
   "id": "d25aa07d",
   "metadata": {},
   "outputs": [],
   "source": []
  },
  {
   "cell_type": "markdown",
   "id": "4de2c397",
   "metadata": {},
   "source": [
    "[등굣길](https://school.programmers.co.kr/learn/courses/30/lessons/42898)"
   ]
  },
  {
   "cell_type": "code",
   "execution_count": null,
   "id": "596acf75",
   "metadata": {},
   "outputs": [],
   "source": []
  },
  {
   "cell_type": "code",
   "execution_count": null,
   "id": "44ea9643",
   "metadata": {},
   "outputs": [],
   "source": []
  },
  {
   "cell_type": "markdown",
   "id": "b5f1aa5e",
   "metadata": {},
   "source": [
    "[N으로 표현](https://school.programmers.co.kr/learn/courses/30/lessons/42895)"
   ]
  },
  {
   "cell_type": "code",
   "execution_count": null,
   "id": "805efa4e",
   "metadata": {},
   "outputs": [],
   "source": []
  },
  {
   "cell_type": "code",
   "execution_count": null,
   "id": "7df03fe0",
   "metadata": {},
   "outputs": [],
   "source": []
  }
 ],
 "metadata": {
  "kernelspec": {
   "display_name": "Python 3 (ipykernel)",
   "language": "python",
   "name": "python3"
  },
  "language_info": {
   "codemirror_mode": {
    "name": "ipython",
    "version": 3
   },
   "file_extension": ".py",
   "mimetype": "text/x-python",
   "name": "python",
   "nbconvert_exporter": "python",
   "pygments_lexer": "ipython3",
   "version": "3.9.17"
  }
 },
 "nbformat": 4,
 "nbformat_minor": 5
}
